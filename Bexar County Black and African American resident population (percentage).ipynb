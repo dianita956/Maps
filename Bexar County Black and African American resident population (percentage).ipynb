{
 "cells": [
  {
   "cell_type": "code",
   "execution_count": 1,
   "id": "6947e494",
   "metadata": {},
   "outputs": [],
   "source": [
    "import cenpy\n",
    "import contextily as ctx \n",
    "import segregation\n",
    "%matplotlib inline\n",
    "import matplotlib as mpl"
   ]
  },
  {
   "cell_type": "code",
   "execution_count": 2,
   "id": "c8ec0691",
   "metadata": {},
   "outputs": [],
   "source": [
    "import xyzservices.providers as xyz\n",
    "import matplotlib.pyplot as plt #to make sure there are no errors when plotting a graph\n",
    "from contextily import add_basemap\n",
    "import folium "
   ]
  },
  {
   "cell_type": "code",
   "execution_count": 3,
   "id": "3fe3c7cf",
   "metadata": {},
   "outputs": [],
   "source": [
    "import geopandas as gpd \n",
    "from census import Census \n",
    "from us import states\n",
    "from shapely.geometry import Polygon"
   ]
  },
  {
   "cell_type": "code",
   "execution_count": 4,
   "id": "39a68b42",
   "metadata": {},
   "outputs": [],
   "source": [
    "import pandas as pd"
   ]
  },
  {
   "cell_type": "markdown",
   "id": "2da61203",
   "metadata": {},
   "source": [
    "**Census Api**"
   ]
  },
  {
   "cell_type": "code",
   "execution_count": 5,
   "id": "2bdd7d17",
   "metadata": {},
   "outputs": [
    {
     "data": {
      "text/html": [
       "<div>\n",
       "<style scoped>\n",
       "    .dataframe tbody tr th:only-of-type {\n",
       "        vertical-align: middle;\n",
       "    }\n",
       "\n",
       "    .dataframe tbody tr th {\n",
       "        vertical-align: top;\n",
       "    }\n",
       "\n",
       "    .dataframe thead th {\n",
       "        text-align: right;\n",
       "    }\n",
       "</style>\n",
       "<table border=\"1\" class=\"dataframe\">\n",
       "  <thead>\n",
       "    <tr style=\"text-align: right;\">\n",
       "      <th></th>\n",
       "      <th>description</th>\n",
       "      <th>columns</th>\n",
       "    </tr>\n",
       "    <tr>\n",
       "      <th>table_name</th>\n",
       "      <th></th>\n",
       "      <th></th>\n",
       "    </tr>\n",
       "  </thead>\n",
       "  <tbody>\n",
       "    <tr>\n",
       "      <th>B02001</th>\n",
       "      <td>RACE</td>\n",
       "      <td>[B02001_001E, B02001_002E, B02001_003E, B02001...</td>\n",
       "    </tr>\n",
       "    <tr>\n",
       "      <th>B02008</th>\n",
       "      <td>WHITE ALONE OR IN COMBINATION WITH ONE OR MORE...</td>\n",
       "      <td>[B02008_001E]</td>\n",
       "    </tr>\n",
       "    <tr>\n",
       "      <th>B02009</th>\n",
       "      <td>BLACK OR AFRICAN AMERICAN ALONE OR IN COMBINAT...</td>\n",
       "      <td>[B02009_001E]</td>\n",
       "    </tr>\n",
       "    <tr>\n",
       "      <th>B02010</th>\n",
       "      <td>AMERICAN INDIAN AND ALASKA NATIVE ALONE OR IN ...</td>\n",
       "      <td>[B02010_001E]</td>\n",
       "    </tr>\n",
       "    <tr>\n",
       "      <th>B02011</th>\n",
       "      <td>ASIAN ALONE OR IN COMBINATION WITH ONE OR MORE...</td>\n",
       "      <td>[B02011_001E]</td>\n",
       "    </tr>\n",
       "    <tr>\n",
       "      <th>B02012</th>\n",
       "      <td>NATIVE HAWAIIAN AND OTHER PACIFIC ISLANDER ALO...</td>\n",
       "      <td>[B02012_001E]</td>\n",
       "    </tr>\n",
       "    <tr>\n",
       "      <th>B02013</th>\n",
       "      <td>SOME OTHER RACE ALONE OR IN COMBINATION WITH O...</td>\n",
       "      <td>[B02013_001E]</td>\n",
       "    </tr>\n",
       "    <tr>\n",
       "      <th>B03002</th>\n",
       "      <td>HISPANIC OR LATINO ORIGIN BY RACE</td>\n",
       "      <td>[B03002_001E, B03002_002E, B03002_003E, B03002...</td>\n",
       "    </tr>\n",
       "    <tr>\n",
       "      <th>B25006</th>\n",
       "      <td>RACE OF HOUSEHOLDER</td>\n",
       "      <td>[B25006_001E, B25006_002E, B25006_003E, B25006...</td>\n",
       "    </tr>\n",
       "    <tr>\n",
       "      <th>B98013</th>\n",
       "      <td>TOTAL POPULATION COVERAGE RATE BY WEIGHTING RA...</td>\n",
       "      <td>[B98013_001E, B98013_002E, B98013_003E, B98013...</td>\n",
       "    </tr>\n",
       "    <tr>\n",
       "      <th>B99021</th>\n",
       "      <td>ALLOCATION OF RACE</td>\n",
       "      <td>[B99021_001E, B99021_002E, B99021_003E]</td>\n",
       "    </tr>\n",
       "    <tr>\n",
       "      <th>C02003</th>\n",
       "      <td>DETAILED RACE</td>\n",
       "      <td>[C02003_001E, C02003_002E, C02003_003E, C02003...</td>\n",
       "    </tr>\n",
       "  </tbody>\n",
       "</table>\n",
       "</div>"
      ],
      "text/plain": [
       "                                                  description  \\\n",
       "table_name                                                      \n",
       "B02001                                                   RACE   \n",
       "B02008      WHITE ALONE OR IN COMBINATION WITH ONE OR MORE...   \n",
       "B02009      BLACK OR AFRICAN AMERICAN ALONE OR IN COMBINAT...   \n",
       "B02010      AMERICAN INDIAN AND ALASKA NATIVE ALONE OR IN ...   \n",
       "B02011      ASIAN ALONE OR IN COMBINATION WITH ONE OR MORE...   \n",
       "B02012      NATIVE HAWAIIAN AND OTHER PACIFIC ISLANDER ALO...   \n",
       "B02013      SOME OTHER RACE ALONE OR IN COMBINATION WITH O...   \n",
       "B03002                      HISPANIC OR LATINO ORIGIN BY RACE   \n",
       "B25006                                    RACE OF HOUSEHOLDER   \n",
       "B98013      TOTAL POPULATION COVERAGE RATE BY WEIGHTING RA...   \n",
       "B99021                                     ALLOCATION OF RACE   \n",
       "C02003                                          DETAILED RACE   \n",
       "\n",
       "                                                      columns  \n",
       "table_name                                                     \n",
       "B02001      [B02001_001E, B02001_002E, B02001_003E, B02001...  \n",
       "B02008                                          [B02008_001E]  \n",
       "B02009                                          [B02009_001E]  \n",
       "B02010                                          [B02010_001E]  \n",
       "B02011                                          [B02011_001E]  \n",
       "B02012                                          [B02012_001E]  \n",
       "B02013                                          [B02013_001E]  \n",
       "B03002      [B03002_001E, B03002_002E, B03002_003E, B03002...  \n",
       "B25006      [B25006_001E, B25006_002E, B25006_003E, B25006...  \n",
       "B98013      [B98013_001E, B98013_002E, B98013_003E, B98013...  \n",
       "B99021                [B99021_001E, B99021_002E, B99021_003E]  \n",
       "C02003      [C02003_001E, C02003_002E, C02003_003E, C02003...  "
      ]
     },
     "execution_count": 5,
     "metadata": {},
     "output_type": "execute_result"
    }
   ],
   "source": [
    "acs=cenpy.products.ACS(year=\"latest\")  # type: ignore\n",
    "acs.filter_tables('RACE', by='description')\n"
   ]
  },
  {
   "cell_type": "code",
   "execution_count": 6,
   "id": "0b68bb1f",
   "metadata": {},
   "outputs": [],
   "source": [
    "c = Census('f5e7cf46eaa83ae8323e6051f74d9ab363d0b957')"
   ]
  },
  {
   "cell_type": "code",
   "execution_count": 19,
   "id": "86c3d86e",
   "metadata": {},
   "outputs": [],
   "source": [
    "# Sources: https://api.census.gov/data/2019/acs/acs5/variables.html; https://pypi.org/project/census/\n",
    "bx_census_tract = c.acs5.state_county_tract(fields = ('NAME', 'B02001_003E','B02001_001E' ),\n",
    "                                      state_fips = states.TX.fips, \n",
    "                                      county_fips = \"029\",\n",
    "                                      tract = \"*\",\n",
    "                                      year = 2019)"
   ]
  },
  {
   "cell_type": "code",
   "execution_count": 20,
   "id": "5d6ec8eb",
   "metadata": {},
   "outputs": [],
   "source": [
    "bx_df = pd.DataFrame(bx_census_tract)"
   ]
  },
  {
   "cell_type": "code",
   "execution_count": 21,
   "id": "20cc1d87",
   "metadata": {},
   "outputs": [
    {
     "name": "stdout",
     "output_type": "stream",
     "text": [
      "                                     NAME  B02001_003E  B02001_001E state  \\\n",
      "0  Census Tract 1109, Bexar County, Texas         46.0       1669.0    48   \n",
      "1  Census Tract 1110, Bexar County, Texas        171.0       2948.0    48   \n",
      "\n",
      "  county   tract  \n",
      "0    029  110900  \n",
      "1    029  111000  \n",
      "Shape:  (366, 6)\n"
     ]
    }
   ],
   "source": [
    "print(bx_df.head(2))\n",
    "print('Shape: ', bx_df.shape)"
   ]
  },
  {
   "cell_type": "markdown",
   "id": "d15de10b",
   "metadata": {},
   "source": [
    "access shapefile of bexar county"
   ]
  },
  {
   "cell_type": "code",
   "execution_count": 23,
   "id": "8447adf3",
   "metadata": {},
   "outputs": [
    {
     "ename": "DriverError",
     "evalue": "'/vsimem/3f5497c3004b4e6ca0ddbf03951fd94f' not recognized as a supported file format.",
     "output_type": "error",
     "traceback": [
      "\u001b[1;31m---------------------------------------------------------------------------\u001b[0m",
      "\u001b[1;31mCPLE_OpenFailedError\u001b[0m                      Traceback (most recent call last)",
      "File \u001b[1;32mfiona/_shim.pyx:83\u001b[0m, in \u001b[0;36mfiona._shim.gdal_open_vector\u001b[1;34m()\u001b[0m\n",
      "File \u001b[1;32mfiona/_err.pyx:270\u001b[0m, in \u001b[0;36mfiona._err.exc_wrap_pointer\u001b[1;34m()\u001b[0m\n",
      "\u001b[1;31mCPLE_OpenFailedError\u001b[0m: '/vsimem/3f5497c3004b4e6ca0ddbf03951fd94f' not recognized as a supported file format.",
      "\nDuring handling of the above exception, another exception occurred:\n",
      "\u001b[1;31mDriverError\u001b[0m                               Traceback (most recent call last)",
      "\u001b[1;32mc:\\Users\\azg526\\Documents\\GitHub\\Maps\\Bexar County Black and African American resident population (percentage).ipynb Cell 12\u001b[0m in \u001b[0;36m<cell line: 1>\u001b[1;34m()\u001b[0m\n\u001b[1;32m----> <a href='vscode-notebook-cell:/c%3A/Users/azg526/Documents/GitHub/Maps/Bexar%20County%20Black%20and%20African%20American%20resident%20population%20%28percentage%29.ipynb#X14sZmlsZQ%3D%3D?line=0'>1</a>\u001b[0m usa\u001b[39m=\u001b[39mgpd\u001b[39m.\u001b[39;49mread_file(\u001b[39m'\u001b[39;49m\u001b[39mhttps://www.census.gov/geographies/mapping-files/time-series/geo/tiger-line-file.html\u001b[39;49m\u001b[39m'\u001b[39;49m)\n\u001b[0;32m      <a href='vscode-notebook-cell:/c%3A/Users/azg526/Documents/GitHub/Maps/Bexar%20County%20Black%20and%20African%20American%20resident%20population%20%28percentage%29.ipynb#X14sZmlsZQ%3D%3D?line=1'>2</a>\u001b[0m \u001b[39mprint\u001b[39m(usa)\n",
      "File \u001b[1;32mc:\\Users\\azg526\\Anaconda3\\envs\\map\\lib\\site-packages\\geopandas\\io\\file.py:160\u001b[0m, in \u001b[0;36m_read_file\u001b[1;34m(filename, bbox, mask, rows, **kwargs)\u001b[0m\n\u001b[0;32m    157\u001b[0m     reader \u001b[39m=\u001b[39m fiona\u001b[39m.\u001b[39mopen\n\u001b[0;32m    159\u001b[0m \u001b[39mwith\u001b[39;00m fiona_env():\n\u001b[1;32m--> 160\u001b[0m     \u001b[39mwith\u001b[39;00m reader(path_or_bytes, \u001b[39m*\u001b[39m\u001b[39m*\u001b[39mkwargs) \u001b[39mas\u001b[39;00m features:\n\u001b[0;32m    161\u001b[0m \n\u001b[0;32m    162\u001b[0m         \u001b[39m# In a future Fiona release the crs attribute of features will\u001b[39;00m\n\u001b[0;32m    163\u001b[0m         \u001b[39m# no longer be a dict, but will behave like a dict. So this should\u001b[39;00m\n\u001b[0;32m    164\u001b[0m         \u001b[39m# be forwards compatible\u001b[39;00m\n\u001b[0;32m    165\u001b[0m         crs \u001b[39m=\u001b[39m (\n\u001b[0;32m    166\u001b[0m             features\u001b[39m.\u001b[39mcrs[\u001b[39m\"\u001b[39m\u001b[39minit\u001b[39m\u001b[39m\"\u001b[39m]\n\u001b[0;32m    167\u001b[0m             \u001b[39mif\u001b[39;00m features\u001b[39m.\u001b[39mcrs \u001b[39mand\u001b[39;00m \u001b[39m\"\u001b[39m\u001b[39minit\u001b[39m\u001b[39m\"\u001b[39m \u001b[39min\u001b[39;00m features\u001b[39m.\u001b[39mcrs\n\u001b[0;32m    168\u001b[0m             \u001b[39melse\u001b[39;00m features\u001b[39m.\u001b[39mcrs_wkt\n\u001b[0;32m    169\u001b[0m         )\n\u001b[0;32m    171\u001b[0m         \u001b[39m# handle loading the bounding box\u001b[39;00m\n",
      "File \u001b[1;32mc:\\Users\\azg526\\Anaconda3\\envs\\map\\lib\\site-packages\\fiona\\collection.py:538\u001b[0m, in \u001b[0;36mBytesCollection.__init__\u001b[1;34m(self, bytesbuf, **kwds)\u001b[0m\n\u001b[0;32m    535\u001b[0m \u001b[39mself\u001b[39m\u001b[39m.\u001b[39mvirtual_file \u001b[39m=\u001b[39m buffer_to_virtual_file(\u001b[39mself\u001b[39m\u001b[39m.\u001b[39mbytesbuf, ext\u001b[39m=\u001b[39mext)\n\u001b[0;32m    537\u001b[0m \u001b[39m# Instantiate the parent class.\u001b[39;00m\n\u001b[1;32m--> 538\u001b[0m \u001b[39msuper\u001b[39m(BytesCollection, \u001b[39mself\u001b[39m)\u001b[39m.\u001b[39m\u001b[39m__init__\u001b[39m(\u001b[39mself\u001b[39m\u001b[39m.\u001b[39mvirtual_file, vsi\u001b[39m=\u001b[39mfiletype,\n\u001b[0;32m    539\u001b[0m                                       encoding\u001b[39m=\u001b[39m\u001b[39m'\u001b[39m\u001b[39mutf-8\u001b[39m\u001b[39m'\u001b[39m, \u001b[39m*\u001b[39m\u001b[39m*\u001b[39mkwds)\n",
      "File \u001b[1;32mc:\\Users\\azg526\\Anaconda3\\envs\\map\\lib\\site-packages\\fiona\\collection.py:154\u001b[0m, in \u001b[0;36mCollection.__init__\u001b[1;34m(self, path, mode, driver, schema, crs, encoding, layer, vsi, archive, enabled_drivers, crs_wkt, ignore_fields, ignore_geometry, **kwargs)\u001b[0m\n\u001b[0;32m    152\u001b[0m \u001b[39mif\u001b[39;00m \u001b[39mself\u001b[39m\u001b[39m.\u001b[39mmode \u001b[39m==\u001b[39m \u001b[39m'\u001b[39m\u001b[39mr\u001b[39m\u001b[39m'\u001b[39m:\n\u001b[0;32m    153\u001b[0m     \u001b[39mself\u001b[39m\u001b[39m.\u001b[39msession \u001b[39m=\u001b[39m Session()\n\u001b[1;32m--> 154\u001b[0m     \u001b[39mself\u001b[39m\u001b[39m.\u001b[39msession\u001b[39m.\u001b[39mstart(\u001b[39mself\u001b[39m, \u001b[39m*\u001b[39m\u001b[39m*\u001b[39mkwargs)\n\u001b[0;32m    155\u001b[0m \u001b[39melif\u001b[39;00m \u001b[39mself\u001b[39m\u001b[39m.\u001b[39mmode \u001b[39min\u001b[39;00m (\u001b[39m'\u001b[39m\u001b[39ma\u001b[39m\u001b[39m'\u001b[39m, \u001b[39m'\u001b[39m\u001b[39mw\u001b[39m\u001b[39m'\u001b[39m):\n\u001b[0;32m    156\u001b[0m     \u001b[39mself\u001b[39m\u001b[39m.\u001b[39msession \u001b[39m=\u001b[39m WritingSession()\n",
      "File \u001b[1;32mfiona/ogrext.pyx:484\u001b[0m, in \u001b[0;36mfiona.ogrext.Session.start\u001b[1;34m()\u001b[0m\n",
      "File \u001b[1;32mfiona/_shim.pyx:90\u001b[0m, in \u001b[0;36mfiona._shim.gdal_open_vector\u001b[1;34m()\u001b[0m\n",
      "\u001b[1;31mDriverError\u001b[0m: '/vsimem/3f5497c3004b4e6ca0ddbf03951fd94f' not recognized as a supported file format."
     ]
    }
   ],
   "source": [
    "usa=gpd.read_file('https://www.census.gov/geographies/mapping-files/time-series/geo/tiger-line-file.html')\n",
    "print(usa)"
   ]
  },
  {
   "cell_type": "code",
   "execution_count": null,
   "id": "e161587e",
   "metadata": {},
   "outputs": [],
   "source": [
    "usa.head(2)"
   ]
  },
  {
   "cell_type": "code",
   "execution_count": null,
   "id": "7994d429",
   "metadata": {},
   "outputs": [],
   "source": [
    "bexar= usa()"
   ]
  },
  {
   "cell_type": "code",
   "execution_count": 3,
   "id": "02aea94f",
   "metadata": {},
   "outputs": [
    {
     "ename": "NameError",
     "evalue": "name 'gpd' is not defined",
     "output_type": "error",
     "traceback": [
      "\u001b[1;31m---------------------------------------------------------------------------\u001b[0m",
      "\u001b[1;31mNameError\u001b[0m                                 Traceback (most recent call last)",
      "\u001b[1;32mc:\\Users\\azg526\\Documents\\GitHub\\Maps\\Bexar County Black and African American resident population (percentage).ipynb Cell 15\u001b[0m in \u001b[0;36m<cell line: 1>\u001b[1;34m()\u001b[0m\n\u001b[1;32m----> <a href='vscode-notebook-cell:/c%3A/Users/azg526/Documents/GitHub/Maps/Bexar%20County%20Black%20and%20African%20American%20resident%20population%20%28percentage%29.ipynb#X20sZmlsZQ%3D%3D?line=0'>1</a>\u001b[0m texas_tract \u001b[39m=\u001b[39m gpd\u001b[39m.\u001b[39mread_file()\n\u001b[0;32m      <a href='vscode-notebook-cell:/c%3A/Users/azg526/Documents/GitHub/Maps/Bexar%20County%20Black%20and%20African%20American%20resident%20population%20%28percentage%29.ipynb#X20sZmlsZQ%3D%3D?line=1'>2</a>\u001b[0m \u001b[39mprint\u001b[39m(texas_tract)\n",
      "\u001b[1;31mNameError\u001b[0m: name 'gpd' is not defined"
     ]
    }
   ],
   "source": [
    "texas_tract = gpd.read_file('../')\n",
    "\n",
    "print(texas_tract)"
   ]
  },
  {
   "cell_type": "code",
   "execution_count": null,
   "id": "0236d5c2",
   "metadata": {},
   "outputs": [],
   "source": [
    "texas_tract = texas_tract.to_crs(epsg=32617)"
   ]
  },
  {
   "cell_type": "code",
   "execution_count": null,
   "id": "e5e44e7d",
   "metadata": {},
   "outputs": [],
   "source": [
    "print(texas_tract.head(2))\n",
    "\n",
    "print('Shape: ', texas_tract.shape)\n",
    "\n",
    "# Check shapefile projection\n",
    "print(\"\\nThe shapefile projection is: {}\".format(texas_tract.crs))"
   ]
  },
  {
   "cell_type": "code",
   "execution_count": null,
   "id": "addd33f3",
   "metadata": {},
   "outputs": [],
   "source": [
    "texas_tract.plot('COUNTYFP', legend=True, figsize=(20,20))"
   ]
  },
  {
   "cell_type": "markdown",
   "id": "c633f12a",
   "metadata": {},
   "source": [
    "performing dataframe operations"
   ]
  },
  {
   "cell_type": "code",
   "execution_count": null,
   "id": "a94a3228",
   "metadata": {},
   "outputs": [],
   "source": [
    "# Combine state, county, and tract columns together to create a new string and assign to new column\n",
    "bx_df[\"GEOID\"] = bx_df[\"state\"] + bx_df[\"county\"] + bx_df[\"tract\"]"
   ]
  },
  {
   "cell_type": "code",
   "execution_count": null,
   "id": "b9e81c53",
   "metadata": {},
   "outputs": [],
   "source": [
    "bx_df.head(100)"
   ]
  },
  {
   "cell_type": "markdown",
   "id": "3a90646a",
   "metadata": {},
   "source": [
    "**Bexar County RACE Population (percentage)**"
   ]
  },
  {
   "cell_type": "code",
   "execution_count": null,
   "id": "59038932",
   "metadata": {},
   "outputs": [],
   "source": [
    "race = ['B02001_001E', #RACE all\n",
    "                'B02001_003E' #BLACK OR AFRICAN AMERICAN ALONE OR IN COMBINAT...\t\n",
    "                ]\n",
    "race"
   ]
  },
  {
   "cell_type": "code",
   "execution_count": null,
   "id": "398f4d10",
   "metadata": {
    "scrolled": true
   },
   "outputs": [],
   "source": [
    "bx_race_black = acs.from_county('Bexar County, TX', variables=race)\n",
    "bx_race_black"
   ]
  },
  {
   "cell_type": "code",
   "execution_count": null,
   "id": "389b943f",
   "metadata": {},
   "outputs": [],
   "source": [
    "bx_race_black_basemap, bx_race_black_extent = ctx.bounds2img(*bx_race_black.total_bounds, zoom=10,   \n",
    "                                            source=ctx.providers.OpenStreetMap.Mapnik )"
   ]
  },
  {
   "cell_type": "code",
   "execution_count": null,
   "id": "87e1d7a4",
   "metadata": {
    "scrolled": false
   },
   "outputs": [],
   "source": [
    "f,ax = plt.subplots(1,1, figsize=(20,16))\n",
    "\n",
    "plt.rcParams['legend.title_fontsize'] = 'medium'\n",
    "\n",
    "plt.rcParams['font.size'] = 16\n",
    "\n",
    "plt.rcParams['font.weight'] = 600\n",
    "\n",
    "ax.imshow(bx_race_black_basemap, extent=bx_race_black_extent, interpolation='sinc')\n",
    "bx_race_black['pct_black'] = bx_race_black.eval('B02001_003E / B02001_001E')*100  # type: ignore\n",
    "\n",
    "bx_race_black.plot('pct_black', edgecolor='white',linewidth=.2, cmap='CMRmap_r', ax = ax,  # type: ignore\n",
    "                    alpha=.7, legend=True,\n",
    "                    legend_kwds={ 'label': \"Percentage of Black/African American residences living in Bexar County\",'orientation': \"horizontal\", 'pad':.01})  # type: ignore\n",
    "\n",
    "plt.title(\n",
    "    \"\\nBexar County\\n Black and African American Population (percentage)\\n\",\n",
    "    fontsize=20,\n",
    "    loc='center',\n",
    "    fontweight='bold',\n",
    "    #style='italic',\n",
    "    family='monospace')\n",
    "\n",
    "plt.style.use('dark_background')\n",
    "\n",
    "ax.tick_params(left = False, right = False , labelleft = False ,labelbottom = False, bottom = False)"
   ]
  }
 ],
 "metadata": {
  "kernelspec": {
   "display_name": "Python 3 (ipykernel)",
   "language": "python",
   "name": "python3"
  },
  "language_info": {
   "codemirror_mode": {
    "name": "ipython",
    "version": 3
   },
   "file_extension": ".py",
   "mimetype": "text/x-python",
   "name": "python",
   "nbconvert_exporter": "python",
   "pygments_lexer": "ipython3",
   "version": "3.9.13"
  },
  "vscode": {
   "interpreter": {
    "hash": "578617e37275adef76fcc456b2ca705a8678b1783fb8e896c04aa72c1ce7be2e"
   }
  },
  "widgets": {
   "application/vnd.jupyter.widget-state+json": {
    "state": {},
    "version_major": 2,
    "version_minor": 0
   }
  }
 },
 "nbformat": 4,
 "nbformat_minor": 5
}
