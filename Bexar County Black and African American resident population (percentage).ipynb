{
 "cells": [
  {
   "cell_type": "code",
   "execution_count": null,
   "id": "6947e494",
   "metadata": {},
   "outputs": [],
   "source": [
    "import cenpy\n",
    "import contextily as ctx \n",
    "import segregation\n",
    "%matplotlib inline\n",
    "import matplotlib as mpl"
   ]
  },
  {
   "cell_type": "code",
   "execution_count": null,
   "id": "c8ec0691",
   "metadata": {},
   "outputs": [],
   "source": [
    "import xyzservices.providers as xyz\n",
    "import matplotlib.pyplot as plt #to make sure there are no errors when plotting a graph\n",
    "from contextily import add_basemap\n",
    "import folium "
   ]
  },
  {
   "cell_type": "code",
   "execution_count": null,
   "id": "3fe3c7cf",
   "metadata": {},
   "outputs": [],
   "source": [
    "import geopandas as gpd \n",
    "from census import Census \n",
    "from us import states\n",
    "from shapely.geometry import Polygon"
   ]
  },
  {
   "cell_type": "code",
   "execution_count": null,
   "id": "39a68b42",
   "metadata": {},
   "outputs": [],
   "source": [
    "import pandas as pd"
   ]
  },
  {
   "cell_type": "markdown",
   "id": "2da61203",
   "metadata": {},
   "source": [
    "**Census Api**"
   ]
  },
  {
   "cell_type": "code",
   "execution_count": null,
   "id": "2bdd7d17",
   "metadata": {},
   "outputs": [],
   "source": [
    "acs=cenpy.products.ACS(year=\"latest\")  # type: ignore\n",
    "acs.filter_tables('RACE', by='description')\n"
   ]
  },
  {
   "cell_type": "code",
   "execution_count": null,
   "id": "0b68bb1f",
   "metadata": {},
   "outputs": [],
   "source": [
    "c = Census('f5e7cf46eaa83ae8323e6051f74d9ab363d0b957')"
   ]
  },
  {
   "cell_type": "code",
   "execution_count": null,
   "id": "86c3d86e",
   "metadata": {},
   "outputs": [],
   "source": [
    "#B02009\tBLACK OR AFRICAN AMERICAN ALONE OR IN COMBINAT...\n",
    "# Sources: https://api.census.gov/data/2019/acs/acs5/variables.html; https://pypi.org/project/census/\n",
    "bx_census_tract = c.acs5.state_county_tract(fields = ('NAME', 'B02001_003E','B02001_001E' ),\n",
    "                                      state_fips = states.TX.fips,  # type: ignore\n",
    "                                      county_fips = \"029\",\n",
    "                                      tract = \"*\",\n",
    "                                      year = 2019)\n",
    "bx_census_tract"
   ]
  },
  {
   "cell_type": "code",
   "execution_count": null,
   "id": "5d6ec8eb",
   "metadata": {},
   "outputs": [],
   "source": [
    "bx_df = pd.DataFrame(bx_census_tract)\n",
    "bx_df.head()"
   ]
  },
  {
   "cell_type": "code",
   "execution_count": null,
   "id": "20cc1d87",
   "metadata": {},
   "outputs": [],
   "source": [
    "print('Shape: ', bx_df.shape)"
   ]
  },
  {
   "cell_type": "markdown",
   "id": "3a90646a",
   "metadata": {},
   "source": [
    "**Bexar County RACE Population (percentage)**"
   ]
  },
  {
   "cell_type": "code",
   "execution_count": null,
   "id": "59038932",
   "metadata": {},
   "outputs": [],
   "source": [
    "race = ['B02001_001E', #RACE all\n",
    "                'B02001_003E' #BLACK OR AFRICAN AMERICAN ALONE OR IN COMBINAT...\t\n",
    "                ]\n",
    "race"
   ]
  },
  {
   "cell_type": "code",
   "execution_count": null,
   "id": "398f4d10",
   "metadata": {
    "scrolled": true
   },
   "outputs": [],
   "source": [
    "bx_race_black = acs.from_county('Bexar County, TX', variables=race)\n",
    "bx_race_black"
   ]
  },
  {
   "cell_type": "code",
   "execution_count": null,
   "id": "389b943f",
   "metadata": {},
   "outputs": [],
   "source": [
    "bx_race_black_basemap, bx_race_black_extent = ctx.bounds2img(*bx_race_black.total_bounds, zoom=10,   # type: ignore\n",
    "                                            source=ctx.providers.OpenStreetMap.Mapnik  # type: ignore  # type: ignore)"
   ]
  },
  {
   "cell_type": "code",
   "execution_count": null,
   "id": "87e1d7a4",
   "metadata": {
    "scrolled": false
   },
   "outputs": [],
   "source": [
    "f,ax = plt.subplots(1,1, figsize=(20,16))\n",
    "\n",
    "plt.rcParams['legend.title_fontsize'] = 'medium'\n",
    "\n",
    "plt.rcParams['font.size'] = 16\n",
    "\n",
    "plt.rcParams['font.weight'] = 600\n",
    "\n",
    "ax.imshow(bx_race_black_basemap, extent=bx_race_black_extent, interpolation='sinc')\n",
    "bx_race_black['pct_black'] = bx_race_black.eval('B02001_003E / B02001_001E')*100  # type: ignore\n",
    "\n",
    "bx_race_black.plot('pct_black', edgecolor='white',linewidth=.2, cmap='CMRmap_r', ax = ax,  # type: ignore\n",
    "                    alpha=.7, legend=True,\n",
    "                    legend_kwds={ 'label': \"Percentage of Black/African American residences living in Bexar County\",'orientation': \"horizontal\", 'pad':.01})  # type: ignore\n",
    "\n",
    "plt.title(\n",
    "    \"\\nBexar County\\n Black and African American Population (percentage)\\n\",\n",
    "    fontsize=20,\n",
    "    loc='center',\n",
    "    fontweight='bold',\n",
    "    #style='italic',\n",
    "    family='monospace')\n",
    "\n",
    "plt.style.use('dark_background')\n",
    "\n",
    "ax.tick_params(left = False, right = False , labelleft = False ,labelbottom = False, bottom = False)"
   ]
  }
 ],
 "metadata": {
  "kernelspec": {
   "display_name": "Python 3 (ipykernel)",
   "language": "python",
   "name": "python3"
  },
  "language_info": {
   "codemirror_mode": {
    "name": "ipython",
    "version": 3
   },
   "file_extension": ".py",
   "mimetype": "text/x-python",
   "name": "python",
   "nbconvert_exporter": "python",
   "pygments_lexer": "ipython3",
   "version": "3.9.13"
  },
  "vscode": {
   "interpreter": {
    "hash": "578617e37275adef76fcc456b2ca705a8678b1783fb8e896c04aa72c1ce7be2e"
   }
  },
  "widgets": {
   "application/vnd.jupyter.widget-state+json": {
    "state": {},
    "version_major": 2,
    "version_minor": 0
   }
  }
 },
 "nbformat": 4,
 "nbformat_minor": 5
}
