{
 "cells": [
  {
   "cell_type": "code",
   "execution_count": 1,
   "id": "6947e494",
   "metadata": {},
   "outputs": [],
   "source": [
    "import cenpy\n",
    "import contextily as ctx \n",
    "import segregation\n",
    "%matplotlib inline\n",
    "import matplotlib as mpl"
   ]
  },
  {
   "cell_type": "code",
   "execution_count": 2,
   "id": "c8ec0691",
   "metadata": {},
   "outputs": [],
   "source": [
    "import xyzservices.providers as xyz\n",
    "import matplotlib.pyplot as plt #to make sure there are no errors when plotting a graph\n",
    "from contextily import add_basemap\n",
    "import folium "
   ]
  },
  {
   "cell_type": "code",
   "execution_count": 3,
   "id": "3fe3c7cf",
   "metadata": {},
   "outputs": [],
   "source": [
    "import geopandas as gpd \n",
    "from census import Census \n",
    "from us import states\n",
    "from shapely.geometry import Polygon"
   ]
  },
  {
   "cell_type": "code",
   "execution_count": 4,
   "id": "39a68b42",
   "metadata": {},
   "outputs": [],
   "source": [
    "import pandas as pd"
   ]
  },
  {
   "cell_type": "markdown",
   "id": "2da61203",
   "metadata": {},
   "source": [
    "**Census Api**"
   ]
  },
  {
   "cell_type": "code",
   "execution_count": 5,
   "id": "2bdd7d17",
   "metadata": {},
   "outputs": [
    {
     "data": {
      "text/html": [
       "<div>\n",
       "<style scoped>\n",
       "    .dataframe tbody tr th:only-of-type {\n",
       "        vertical-align: middle;\n",
       "    }\n",
       "\n",
       "    .dataframe tbody tr th {\n",
       "        vertical-align: top;\n",
       "    }\n",
       "\n",
       "    .dataframe thead th {\n",
       "        text-align: right;\n",
       "    }\n",
       "</style>\n",
       "<table border=\"1\" class=\"dataframe\">\n",
       "  <thead>\n",
       "    <tr style=\"text-align: right;\">\n",
       "      <th></th>\n",
       "      <th>description</th>\n",
       "      <th>columns</th>\n",
       "    </tr>\n",
       "    <tr>\n",
       "      <th>table_name</th>\n",
       "      <th></th>\n",
       "      <th></th>\n",
       "    </tr>\n",
       "  </thead>\n",
       "  <tbody>\n",
       "    <tr>\n",
       "      <th>B02001</th>\n",
       "      <td>RACE</td>\n",
       "      <td>[B02001_001E, B02001_002E, B02001_003E, B02001...</td>\n",
       "    </tr>\n",
       "    <tr>\n",
       "      <th>B02008</th>\n",
       "      <td>WHITE ALONE OR IN COMBINATION WITH ONE OR MORE...</td>\n",
       "      <td>[B02008_001E]</td>\n",
       "    </tr>\n",
       "    <tr>\n",
       "      <th>B02009</th>\n",
       "      <td>BLACK OR AFRICAN AMERICAN ALONE OR IN COMBINAT...</td>\n",
       "      <td>[B02009_001E]</td>\n",
       "    </tr>\n",
       "    <tr>\n",
       "      <th>B02010</th>\n",
       "      <td>AMERICAN INDIAN AND ALASKA NATIVE ALONE OR IN ...</td>\n",
       "      <td>[B02010_001E]</td>\n",
       "    </tr>\n",
       "    <tr>\n",
       "      <th>B02011</th>\n",
       "      <td>ASIAN ALONE OR IN COMBINATION WITH ONE OR MORE...</td>\n",
       "      <td>[B02011_001E]</td>\n",
       "    </tr>\n",
       "    <tr>\n",
       "      <th>B02012</th>\n",
       "      <td>NATIVE HAWAIIAN AND OTHER PACIFIC ISLANDER ALO...</td>\n",
       "      <td>[B02012_001E]</td>\n",
       "    </tr>\n",
       "    <tr>\n",
       "      <th>B02013</th>\n",
       "      <td>SOME OTHER RACE ALONE OR IN COMBINATION WITH O...</td>\n",
       "      <td>[B02013_001E]</td>\n",
       "    </tr>\n",
       "    <tr>\n",
       "      <th>B03002</th>\n",
       "      <td>HISPANIC OR LATINO ORIGIN BY RACE</td>\n",
       "      <td>[B03002_001E, B03002_002E, B03002_003E, B03002...</td>\n",
       "    </tr>\n",
       "    <tr>\n",
       "      <th>B25006</th>\n",
       "      <td>RACE OF HOUSEHOLDER</td>\n",
       "      <td>[B25006_001E, B25006_002E, B25006_003E, B25006...</td>\n",
       "    </tr>\n",
       "    <tr>\n",
       "      <th>B98013</th>\n",
       "      <td>TOTAL POPULATION COVERAGE RATE BY WEIGHTING RA...</td>\n",
       "      <td>[B98013_001E, B98013_002E, B98013_003E, B98013...</td>\n",
       "    </tr>\n",
       "    <tr>\n",
       "      <th>B99021</th>\n",
       "      <td>ALLOCATION OF RACE</td>\n",
       "      <td>[B99021_001E, B99021_002E, B99021_003E]</td>\n",
       "    </tr>\n",
       "    <tr>\n",
       "      <th>C02003</th>\n",
       "      <td>DETAILED RACE</td>\n",
       "      <td>[C02003_001E, C02003_002E, C02003_003E, C02003...</td>\n",
       "    </tr>\n",
       "  </tbody>\n",
       "</table>\n",
       "</div>"
      ],
      "text/plain": [
       "                                                  description  \\\n",
       "table_name                                                      \n",
       "B02001                                                   RACE   \n",
       "B02008      WHITE ALONE OR IN COMBINATION WITH ONE OR MORE...   \n",
       "B02009      BLACK OR AFRICAN AMERICAN ALONE OR IN COMBINAT...   \n",
       "B02010      AMERICAN INDIAN AND ALASKA NATIVE ALONE OR IN ...   \n",
       "B02011      ASIAN ALONE OR IN COMBINATION WITH ONE OR MORE...   \n",
       "B02012      NATIVE HAWAIIAN AND OTHER PACIFIC ISLANDER ALO...   \n",
       "B02013      SOME OTHER RACE ALONE OR IN COMBINATION WITH O...   \n",
       "B03002                      HISPANIC OR LATINO ORIGIN BY RACE   \n",
       "B25006                                    RACE OF HOUSEHOLDER   \n",
       "B98013      TOTAL POPULATION COVERAGE RATE BY WEIGHTING RA...   \n",
       "B99021                                     ALLOCATION OF RACE   \n",
       "C02003                                          DETAILED RACE   \n",
       "\n",
       "                                                      columns  \n",
       "table_name                                                     \n",
       "B02001      [B02001_001E, B02001_002E, B02001_003E, B02001...  \n",
       "B02008                                          [B02008_001E]  \n",
       "B02009                                          [B02009_001E]  \n",
       "B02010                                          [B02010_001E]  \n",
       "B02011                                          [B02011_001E]  \n",
       "B02012                                          [B02012_001E]  \n",
       "B02013                                          [B02013_001E]  \n",
       "B03002      [B03002_001E, B03002_002E, B03002_003E, B03002...  \n",
       "B25006      [B25006_001E, B25006_002E, B25006_003E, B25006...  \n",
       "B98013      [B98013_001E, B98013_002E, B98013_003E, B98013...  \n",
       "B99021                [B99021_001E, B99021_002E, B99021_003E]  \n",
       "C02003      [C02003_001E, C02003_002E, C02003_003E, C02003...  "
      ]
     },
     "execution_count": 5,
     "metadata": {},
     "output_type": "execute_result"
    }
   ],
   "source": [
    "acs=cenpy.products.ACS(year=\"latest\")  # type: ignore\n",
    "acs.filter_tables('RACE', by='description')\n"
   ]
  },
  {
   "cell_type": "code",
   "execution_count": 6,
   "id": "0b68bb1f",
   "metadata": {},
   "outputs": [],
   "source": [
    "c = Census('f5e7cf46eaa83ae8323e6051f74d9ab363d0b957')"
   ]
  },
  {
   "cell_type": "code",
   "execution_count": 7,
   "id": "86c3d86e",
   "metadata": {},
   "outputs": [],
   "source": [
    "# Sources: https://api.census.gov/data/2019/acs/acs5/variables.html; https://pypi.org/project/census/\n",
    "bx_census_tract = c.acs5.state_county_tract(fields = ('NAME', 'B02001_003E','B02001_001E' ),\n",
    "                                      state_fips = states.TX.fips, \n",
    "                                      county_fips = \"029\",\n",
    "                                      tract = \"*\",\n",
    "                                      year = 2019)"
   ]
  },
  {
   "cell_type": "code",
   "execution_count": 8,
   "id": "5d6ec8eb",
   "metadata": {},
   "outputs": [],
   "source": [
    "bx_df = pd.DataFrame(bx_census_tract)"
   ]
  },
  {
   "cell_type": "code",
   "execution_count": 9,
   "id": "20cc1d87",
   "metadata": {},
   "outputs": [
    {
     "name": "stdout",
     "output_type": "stream",
     "text": [
      "                                     NAME  B02001_003E  B02001_001E state  \\\n",
      "0  Census Tract 1109, Bexar County, Texas         46.0       1669.0    48   \n",
      "1  Census Tract 1110, Bexar County, Texas        171.0       2948.0    48   \n",
      "\n",
      "  county   tract  \n",
      "0    029  110900  \n",
      "1    029  111000  \n",
      "Shape:  (366, 6)\n"
     ]
    }
   ],
   "source": [
    "print(bx_df.head(2))\n",
    "print('Shape: ', bx_df.shape)"
   ]
  },
  {
   "cell_type": "markdown",
   "id": "d15de10b",
   "metadata": {},
   "source": [
    "access shapefile of bexar county"
   ]
  },
  {
   "cell_type": "code",
   "execution_count": 10,
   "id": "8447adf3",
   "metadata": {},
   "outputs": [
    {
     "name": "stdout",
     "output_type": "stream",
     "text": [
      "     STATEFP COUNTYFP  COUNTYNS  GEOID       NAME          NAMELSAD LSAD  \\\n",
      "0         31      039  00835841  31039     Cuming     Cuming County   06   \n",
      "1         53      069  01513275  53069  Wahkiakum  Wahkiakum County   06   \n",
      "2         35      011  00933054  35011    De Baca    De Baca County   06   \n",
      "3         31      109  00835876  31109  Lancaster  Lancaster County   06   \n",
      "4         31      129  00835886  31129   Nuckolls   Nuckolls County   06   \n",
      "...      ...      ...       ...    ...        ...               ...  ...   \n",
      "3228      13      123  00351260  13123     Gilmer     Gilmer County   06   \n",
      "3229      27      135  00659513  27135     Roseau     Roseau County   06   \n",
      "3230      28      089  00695768  28089    Madison    Madison County   06   \n",
      "3231      48      227  01383899  48227     Howard     Howard County   06   \n",
      "3232      54      099  01550056  54099      Wayne      Wayne County   06   \n",
      "\n",
      "     CLASSFP  MTFCC CSAFP CBSAFP METDIVFP FUNCSTAT       ALAND    AWATER  \\\n",
      "0         H1  G4020  None   None     None        A  1477652222  10690952   \n",
      "1         H1  G4020  None   None     None        A   680962890  61582307   \n",
      "2         H1  G4020  None   None     None        A  6016819475  29089486   \n",
      "3         H1  G4020   339  30700     None        A  2169270569  22849484   \n",
      "4         H1  G4020  None   None     None        A  1489645188   1718484   \n",
      "...      ...    ...   ...    ...      ...      ...         ...       ...   \n",
      "3228      H1  G4020  None   None     None        A  1103886891  12283371   \n",
      "3229      H1  G4020  None   None     None        A  4329471929  16913419   \n",
      "3230      H1  G4020   298  27140     None        A  1850602740  71274123   \n",
      "3231      H1  G4020  None  13700     None        A  2333039143   8841783   \n",
      "3232      H1  G4020   170  26580     None        A  1310550727  15814102   \n",
      "\n",
      "         INTPTLAT      INTPTLON  \\\n",
      "0     +41.9158651  -096.7885168   \n",
      "1     +46.2946377  -123.4244583   \n",
      "2     +34.3592729  -104.3686961   \n",
      "3     +40.7835474  -096.6886584   \n",
      "4     +40.1764918  -098.0468422   \n",
      "...           ...           ...   \n",
      "3228  +34.6905055  -084.4546244   \n",
      "3229  +48.7610683  -095.8215042   \n",
      "3230  +32.6343703  -090.0341603   \n",
      "3231  +32.3034298  -101.4387208   \n",
      "3232  +38.1436416  -082.4226659   \n",
      "\n",
      "                                               geometry  \n",
      "0     POLYGON ((-97.01952 42.00410, -97.01952 42.004...  \n",
      "1     POLYGON ((-123.43639 46.23820, -123.44759 46.2...  \n",
      "2     POLYGON ((-104.56739 33.99757, -104.56772 33.9...  \n",
      "3     POLYGON ((-96.91075 40.78494, -96.91075 40.790...  \n",
      "4     POLYGON ((-98.27367 40.08940, -98.27367 40.089...  \n",
      "...                                                 ...  \n",
      "3228  POLYGON ((-84.65478 34.66559, -84.65488 34.669...  \n",
      "3229  POLYGON ((-96.40466 48.80528, -96.40467 48.813...  \n",
      "3230  POLYGON ((-90.09363 32.70763, -90.09360 32.707...  \n",
      "3231  POLYGON ((-101.69227 32.27106, -101.69221 32.2...  \n",
      "3232  POLYGON ((-82.59529 38.36978, -82.59515 38.369...  \n",
      "\n",
      "[3233 rows x 18 columns]\n"
     ]
    }
   ],
   "source": [
    "usa=gpd.read_file('../tl_2019_us_county/tl_2019_us_county.shp')\n",
    "print(usa)"
   ]
  },
  {
   "cell_type": "code",
   "execution_count": 11,
   "id": "e161587e",
   "metadata": {},
   "outputs": [
    {
     "data": {
      "text/html": [
       "<div>\n",
       "<style scoped>\n",
       "    .dataframe tbody tr th:only-of-type {\n",
       "        vertical-align: middle;\n",
       "    }\n",
       "\n",
       "    .dataframe tbody tr th {\n",
       "        vertical-align: top;\n",
       "    }\n",
       "\n",
       "    .dataframe thead th {\n",
       "        text-align: right;\n",
       "    }\n",
       "</style>\n",
       "<table border=\"1\" class=\"dataframe\">\n",
       "  <thead>\n",
       "    <tr style=\"text-align: right;\">\n",
       "      <th></th>\n",
       "      <th>STATEFP</th>\n",
       "      <th>COUNTYFP</th>\n",
       "      <th>COUNTYNS</th>\n",
       "      <th>GEOID</th>\n",
       "      <th>NAME</th>\n",
       "      <th>NAMELSAD</th>\n",
       "      <th>LSAD</th>\n",
       "      <th>CLASSFP</th>\n",
       "      <th>MTFCC</th>\n",
       "      <th>CSAFP</th>\n",
       "      <th>CBSAFP</th>\n",
       "      <th>METDIVFP</th>\n",
       "      <th>FUNCSTAT</th>\n",
       "      <th>ALAND</th>\n",
       "      <th>AWATER</th>\n",
       "      <th>INTPTLAT</th>\n",
       "      <th>INTPTLON</th>\n",
       "      <th>geometry</th>\n",
       "    </tr>\n",
       "  </thead>\n",
       "  <tbody>\n",
       "    <tr>\n",
       "      <th>0</th>\n",
       "      <td>31</td>\n",
       "      <td>039</td>\n",
       "      <td>00835841</td>\n",
       "      <td>31039</td>\n",
       "      <td>Cuming</td>\n",
       "      <td>Cuming County</td>\n",
       "      <td>06</td>\n",
       "      <td>H1</td>\n",
       "      <td>G4020</td>\n",
       "      <td>None</td>\n",
       "      <td>None</td>\n",
       "      <td>None</td>\n",
       "      <td>A</td>\n",
       "      <td>1477652222</td>\n",
       "      <td>10690952</td>\n",
       "      <td>+41.9158651</td>\n",
       "      <td>-096.7885168</td>\n",
       "      <td>POLYGON ((-97.01952 42.00410, -97.01952 42.004...</td>\n",
       "    </tr>\n",
       "    <tr>\n",
       "      <th>1</th>\n",
       "      <td>53</td>\n",
       "      <td>069</td>\n",
       "      <td>01513275</td>\n",
       "      <td>53069</td>\n",
       "      <td>Wahkiakum</td>\n",
       "      <td>Wahkiakum County</td>\n",
       "      <td>06</td>\n",
       "      <td>H1</td>\n",
       "      <td>G4020</td>\n",
       "      <td>None</td>\n",
       "      <td>None</td>\n",
       "      <td>None</td>\n",
       "      <td>A</td>\n",
       "      <td>680962890</td>\n",
       "      <td>61582307</td>\n",
       "      <td>+46.2946377</td>\n",
       "      <td>-123.4244583</td>\n",
       "      <td>POLYGON ((-123.43639 46.23820, -123.44759 46.2...</td>\n",
       "    </tr>\n",
       "  </tbody>\n",
       "</table>\n",
       "</div>"
      ],
      "text/plain": [
       "  STATEFP COUNTYFP  COUNTYNS  GEOID       NAME          NAMELSAD LSAD CLASSFP  \\\n",
       "0      31      039  00835841  31039     Cuming     Cuming County   06      H1   \n",
       "1      53      069  01513275  53069  Wahkiakum  Wahkiakum County   06      H1   \n",
       "\n",
       "   MTFCC CSAFP CBSAFP METDIVFP FUNCSTAT       ALAND    AWATER     INTPTLAT  \\\n",
       "0  G4020  None   None     None        A  1477652222  10690952  +41.9158651   \n",
       "1  G4020  None   None     None        A   680962890  61582307  +46.2946377   \n",
       "\n",
       "       INTPTLON                                           geometry  \n",
       "0  -096.7885168  POLYGON ((-97.01952 42.00410, -97.01952 42.004...  \n",
       "1  -123.4244583  POLYGON ((-123.43639 46.23820, -123.44759 46.2...  "
      ]
     },
     "execution_count": 11,
     "metadata": {},
     "output_type": "execute_result"
    }
   ],
   "source": [
    "usa.head(2)"
   ]
  },
  {
   "cell_type": "code",
   "execution_count": 12,
   "id": "7994d429",
   "metadata": {},
   "outputs": [
    {
     "ename": "NameError",
     "evalue": "name 'coliu' is not defined",
     "output_type": "error",
     "traceback": [
      "\u001b[1;31m---------------------------------------------------------------------------\u001b[0m",
      "\u001b[1;31mNameError\u001b[0m                                 Traceback (most recent call last)",
      "\u001b[1;32mc:\\Users\\azg526\\DH Projects\\Maps\\Bexar County Black and African American resident population (percentage).ipynb Cell 14\u001b[0m in \u001b[0;36m<cell line: 1>\u001b[1;34m()\u001b[0m\n\u001b[1;32m----> <a href='vscode-notebook-cell:/c%3A/Users/azg526/DH%20Projects/Maps/Bexar%20County%20Black%20and%20African%20American%20resident%20population%20%28percentage%29.ipynb#X16sZmlsZQ%3D%3D?line=0'>1</a>\u001b[0m bexar\u001b[39m=\u001b[39m usa(coliu)\n",
      "\u001b[1;31mNameError\u001b[0m: name 'coliu' is not defined"
     ]
    }
   ],
   "source": [
    "bexar= usa()"
   ]
  },
  {
   "cell_type": "code",
   "execution_count": null,
   "id": "02aea94f",
   "metadata": {},
   "outputs": [],
   "source": [
    "texas_tract = gpd.read_file(\"https://www2.census.gov/geo/tiger/TIGER2019/TRACT/tl_2019_48_tract.zip\")\n",
    "print(texas_tract)"
   ]
  },
  {
   "cell_type": "code",
   "execution_count": null,
   "id": "0236d5c2",
   "metadata": {},
   "outputs": [],
   "source": [
    "texas_tract = texas_tract.to_crs(epsg=32617)"
   ]
  },
  {
   "cell_type": "code",
   "execution_count": null,
   "id": "e5e44e7d",
   "metadata": {},
   "outputs": [],
   "source": [
    "print(texas_tract.head(2))\n",
    "\n",
    "print('Shape: ', texas_tract.shape)\n",
    "\n",
    "# Check shapefile projection\n",
    "print(\"\\nThe shapefile projection is: {}\".format(texas_tract.crs))"
   ]
  },
  {
   "cell_type": "code",
   "execution_count": null,
   "id": "addd33f3",
   "metadata": {},
   "outputs": [],
   "source": [
    "texas_tract.plot('COUNTYFP', legend=True, figsize=(20,20))"
   ]
  },
  {
   "cell_type": "markdown",
   "id": "c633f12a",
   "metadata": {},
   "source": [
    "performing dataframe operations"
   ]
  },
  {
   "cell_type": "code",
   "execution_count": null,
   "id": "a94a3228",
   "metadata": {},
   "outputs": [],
   "source": [
    "# Combine state, county, and tract columns together to create a new string and assign to new column\n",
    "bx_df[\"GEOID\"] = bx_df[\"state\"] + bx_df[\"county\"] + bx_df[\"tract\"]"
   ]
  },
  {
   "cell_type": "code",
   "execution_count": null,
   "id": "b9e81c53",
   "metadata": {},
   "outputs": [],
   "source": [
    "bx_df.head(100)"
   ]
  },
  {
   "cell_type": "markdown",
   "id": "3a90646a",
   "metadata": {},
   "source": [
    "**Bexar County RACE Population (percentage)**"
   ]
  },
  {
   "cell_type": "code",
   "execution_count": null,
   "id": "59038932",
   "metadata": {},
   "outputs": [],
   "source": [
    "race = ['B02001_001E', #RACE all\n",
    "                'B02001_003E' #BLACK OR AFRICAN AMERICAN ALONE OR IN COMBINAT...\t\n",
    "                ]\n",
    "race"
   ]
  },
  {
   "cell_type": "code",
   "execution_count": null,
   "id": "398f4d10",
   "metadata": {
    "scrolled": true
   },
   "outputs": [],
   "source": [
    "bx_race_black = acs.from_county('Bexar County, TX', variables=race)\n",
    "bx_race_black"
   ]
  },
  {
   "cell_type": "code",
   "execution_count": null,
   "id": "389b943f",
   "metadata": {},
   "outputs": [],
   "source": [
    "bx_race_black_basemap, bx_race_black_extent = ctx.bounds2img(*bx_race_black.total_bounds, zoom=10,   \n",
    "                                            source=ctx.providers.OpenStreetMap.Mapnik )"
   ]
  },
  {
   "cell_type": "code",
   "execution_count": null,
   "id": "87e1d7a4",
   "metadata": {
    "scrolled": false
   },
   "outputs": [],
   "source": [
    "f,ax = plt.subplots(1,1, figsize=(20,16))\n",
    "\n",
    "plt.rcParams['legend.title_fontsize'] = 'medium'\n",
    "\n",
    "plt.rcParams['font.size'] = 16\n",
    "\n",
    "plt.rcParams['font.weight'] = 600\n",
    "\n",
    "ax.imshow(bx_race_black_basemap, extent=bx_race_black_extent, interpolation='sinc')\n",
    "bx_race_black['pct_black'] = bx_race_black.eval('B02001_003E / B02001_001E')*100  # type: ignore\n",
    "\n",
    "bx_race_black.plot('pct_black', edgecolor='white',linewidth=.2, cmap='CMRmap_r', ax = ax,  # type: ignore\n",
    "                    alpha=.7, legend=True,\n",
    "                    legend_kwds={ 'label': \"Percentage of Black/African American residences living in Bexar County\",'orientation': \"horizontal\", 'pad':.01})  # type: ignore\n",
    "\n",
    "plt.title(\n",
    "    \"\\nBexar County\\n Black and African American Population (percentage)\\n\",\n",
    "    fontsize=20,\n",
    "    loc='center',\n",
    "    fontweight='bold',\n",
    "    #style='italic',\n",
    "    family='monospace')\n",
    "\n",
    "plt.style.use('dark_background')\n",
    "\n",
    "ax.tick_params(left = False, right = False , labelleft = False ,labelbottom = False, bottom = False)"
   ]
  }
 ],
 "metadata": {
  "kernelspec": {
   "display_name": "Python 3 (ipykernel)",
   "language": "python",
   "name": "python3"
  },
  "language_info": {
   "codemirror_mode": {
    "name": "ipython",
    "version": 3
   },
   "file_extension": ".py",
   "mimetype": "text/x-python",
   "name": "python",
   "nbconvert_exporter": "python",
   "pygments_lexer": "ipython3",
   "version": "3.9.13"
  },
  "vscode": {
   "interpreter": {
    "hash": "578617e37275adef76fcc456b2ca705a8678b1783fb8e896c04aa72c1ce7be2e"
   }
  },
  "widgets": {
   "application/vnd.jupyter.widget-state+json": {
    "state": {},
    "version_major": 2,
    "version_minor": 0
   }
  }
 },
 "nbformat": 4,
 "nbformat_minor": 5
}
