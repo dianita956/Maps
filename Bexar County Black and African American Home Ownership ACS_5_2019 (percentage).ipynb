{
 "cells": [
  {
   "cell_type": "code",
   "execution_count": null,
   "id": "6947e494",
   "metadata": {},
   "outputs": [],
   "source": [
    "import cenpy\n",
    "import contextily as ctx \n",
    "import segregation\n",
    "%matplotlib inline\n",
    "import matplotlib as mpl"
   ]
  },
  {
   "cell_type": "code",
   "execution_count": null,
   "id": "c8ec0691",
   "metadata": {},
   "outputs": [],
   "source": [
    "import xyzservices.providers as xyz\n",
    "import matplotlib.pyplot as plt #to make sure there are no errors when plotting a graph\n",
    "from contextily import add_basemap\n",
    "import folium "
   ]
  },
  {
   "cell_type": "code",
   "execution_count": null,
   "id": "3fe3c7cf",
   "metadata": {},
   "outputs": [],
   "source": [
    "import geopandas as gpd \n",
    "from census import Census \n",
    "from us import states\n",
    "from shapely.geometry import Polygon"
   ]
  },
  {
   "cell_type": "code",
   "execution_count": null,
   "id": "39a68b42",
   "metadata": {},
   "outputs": [],
   "source": [
    "import pandas as pd"
   ]
  },
  {
   "cell_type": "code",
   "execution_count": null,
   "id": "85df7ab5",
   "metadata": {},
   "outputs": [],
   "source": [
    "from contextily import Place\n"
   ]
  },
  {
   "cell_type": "markdown",
   "id": "2da61203",
   "metadata": {},
   "source": [
    "**Census Api**"
   ]
  },
  {
   "cell_type": "code",
   "execution_count": null,
   "id": "2bdd7d17",
   "metadata": {},
   "outputs": [],
   "source": [
    "acs=cenpy.products.ACS(year=\"latest\")  \n",
    "acs.filter_tables('POPULATION', by='description')\n"
   ]
  },
  {
   "cell_type": "code",
   "execution_count": null,
   "id": "0b68bb1f",
   "metadata": {},
   "outputs": [],
   "source": [
    "c = Census('f5e7cf46eaa83ae8323e6051f74d9ab363d0b957')"
   ]
  },
  {
   "cell_type": "code",
   "execution_count": null,
   "id": "86c3d86e",
   "metadata": {},
   "outputs": [],
   "source": [
    "# Sources: https://api.census.gov/data/2019/acs/acs5/variables.html; https://pypi.org/project/census/\n",
    "bxr_householder_by_race = c.acs5.state_county_tract(fields = ('NAME', 'B25006_001E', # All Race of Householders\n",
    "                                                                'B25006_003E', # Black Race of Householders\n",
    "                                                                ), \n",
    "                                      state_fips = states.TX.fips, \n",
    "                                      county_fips = \"029\",\n",
    "                                      tract = \"*\",\n",
    "                                      year = 2019)"
   ]
  },
  {
   "cell_type": "code",
   "execution_count": null,
   "id": "5d6ec8eb",
   "metadata": {},
   "outputs": [],
   "source": [
    "bxr_hh_race_df = pd.DataFrame(bxr_householder_by_race)"
   ]
  },
  {
   "cell_type": "code",
   "execution_count": null,
   "id": "20cc1d87",
   "metadata": {},
   "outputs": [],
   "source": [
    "print(bxr_hh_race_df.head(2))\n",
    "print('Shape: ', bxr_hh_race_df.shape)"
   ]
  },
  {
   "cell_type": "markdown",
   "id": "d15de10b",
   "metadata": {},
   "source": [
    "access shapefile of bexar county. this will coordinate data and alignment with Mercator projection"
   ]
  },
  {
   "cell_type": "code",
   "execution_count": null,
   "id": "02aea94f",
   "metadata": {},
   "outputs": [],
   "source": [
    "bxr_census_tract = gpd.read_file(\"https://www2.census.gov/geo/tiger/TIGER2019/TRACT/tl_2019_48_tract.zip\")\n"
   ]
  },
  {
   "cell_type": "code",
   "execution_count": null,
   "id": "e5e44e7d",
   "metadata": {},
   "outputs": [],
   "source": [
    "print(bxr_census_tract.head(2))\n",
    "\n",
    "print('Shape: ', bxr_census_tract.shape)\n",
    "\n",
    "# Check shapefile projection\n",
    "print(\"\\nThe shapefile projection is: {}\".format(bxr_census_tract.crs))"
   ]
  },
  {
   "cell_type": "code",
   "execution_count": null,
   "id": "addd33f3",
   "metadata": {},
   "outputs": [],
   "source": [
    "bxr_census_tract.plot('TRACTCE', legend=False, figsize=(10,10))\n",
    "\n",
    "plt.style.use('dark_background')\n",
    "\n"
   ]
  },
  {
   "cell_type": "markdown",
   "id": "c633f12a",
   "metadata": {},
   "source": [
    "performing dataframe operations= https://pygis.io/docs/e_vector_merge_dissolve.html"
   ]
  },
  {
   "cell_type": "code",
   "execution_count": null,
   "id": "a94a3228",
   "metadata": {},
   "outputs": [],
   "source": [
    "# Combine state, county, and tract columns together to create a new string and assign to new column\n",
    "bxr_hh_race_df[\"GEOID\"] = bxr_hh_race_df[\"state\"] + bxr_hh_race_df[\"county\"] + bxr_hh_race_df[\"tract\"]"
   ]
  },
  {
   "cell_type": "code",
   "execution_count": null,
   "id": "b9e81c53",
   "metadata": {},
   "outputs": [],
   "source": [
    "bxr_hh_race_df.head(2)"
   ]
  },
  {
   "cell_type": "code",
   "execution_count": null,
   "id": "c25b38d3",
   "metadata": {},
   "outputs": [],
   "source": [
    "# Remove columns\n",
    "bxr_hh_race_df = bxr_hh_race_df.drop(columns = [\"state\", \"county\", \"tract\"])\n",
    "\n",
    "# Show updated dataframe\n",
    "bxr_hh_race_df.head(2)"
   ]
  },
  {
   "cell_type": "markdown",
   "id": "9f18a26f",
   "metadata": {},
   "source": [
    "check column data types "
   ]
  },
  {
   "cell_type": "code",
   "execution_count": null,
   "id": "57ed66b9",
   "metadata": {},
   "outputs": [],
   "source": [
    "# Check column data types for census data\n",
    "print(\"Column data types for census data:\\n{}\".format(bxr_hh_race_df.dtypes))\n",
    "\n",
    "# Check column data types for census shapefile\n",
    "print(\"\\nColumn data types for census shapefile:\\n{}\".format(bxr_census_tract.dtypes))\n",
    "\n",
    "# Source: https://pandas.pydata.org/pandas-docs/stable/reference/api/pandas.DataFrame.dtypes.html"
   ]
  },
  {
   "cell_type": "markdown",
   "id": "08d8ebad",
   "metadata": {},
   "source": [
    "merge dataframes"
   ]
  },
  {
   "cell_type": "code",
   "execution_count": null,
   "id": "f84bdf51",
   "metadata": {},
   "outputs": [],
   "source": [
    "# Join the attributes of the dataframes together\n",
    "# Source: https://geopandas.org/docs/user_guide/mergingdata.html\n",
    "bxr_merge = bxr_census_tract.merge(bxr_hh_race_df, on = \"GEOID\")\n",
    "\n",
    "# Show result\n",
    "print(bxr_merge.head(2))\n",
    "print('Shape: ', bxr_merge.shape)"
   ]
  },
  {
   "cell_type": "markdown",
   "id": "26c05396",
   "metadata": {},
   "source": [
    "Subset dataframe. working with bxr_merge shapefile"
   ]
  },
  {
   "cell_type": "code",
   "execution_count": null,
   "id": "a2be8682",
   "metadata": {},
   "outputs": [],
   "source": [
    "# Create new dataframe from select columns\n",
    "bxr_hh_race_tract = bxr_merge[[\"STATEFP\", \"COUNTYFP\", \"TRACTCE\", \"GEOID\", \"geometry\", \"B25006_001E\", \"B25006_003E\"]]\n",
    "\n",
    "# Show dataframe\n",
    "print(bxr_hh_race_tract.head(2))\n",
    "print('Shape: ', bxr_hh_race_tract.shape)"
   ]
  },
  {
   "cell_type": "code",
   "execution_count": null,
   "id": "d0d55972",
   "metadata": {},
   "outputs": [],
   "source": [
    "# Dissolve and group the census tracts within each county and aggregate all the values together\n",
    "# Source: https://geopandas.org/docs/user_guide/aggregation_with_dissolve.html\n",
    "bxr_hh_race_county = bxr_hh_race_tract.dissolve(by = 'TRACTCE', aggfunc = 'mean')\n",
    "\n",
    "# Show dataframe\n",
    "print(bxr_hh_race_county.head())\n",
    "print('Shape: ', bxr_hh_race_county.shape)"
   ]
  },
  {
   "cell_type": "code",
   "execution_count": null,
   "id": "6c4bfaf8",
   "metadata": {},
   "outputs": [],
   "source": [
    "# Get householder by race rate and store values in new column\n",
    "bxr_hh_race_county[\"Mean\"] = (bxr_hh_race_county[\"B25006_003E\"]/bxr_hh_race_county[\"B25006_001E\"])*100\n",
    "\n",
    "\n",
    "# Show dataframe\n",
    "bxr_hh_race_county.head(10)  "
   ]
  },
  {
   "cell_type": "code",
   "execution_count": null,
   "id": "2923ec5b",
   "metadata": {},
   "outputs": [],
   "source": [
    "xyz"
   ]
  },
  {
   "cell_type": "code",
   "execution_count": null,
   "id": "b9fd3962",
   "metadata": {},
   "outputs": [],
   "source": [
    "# Create subplots\n",
    "fig, ax =  plt.subplots(figsize = (10,10), dpi=100)\n",
    "plt.subplots_adjust(bottom=1, right=1, top=2)\n",
    "\n",
    "# Plot data\n",
    "# Source: https://geopandas.readthedocs.io/en/latest/docs/user_guide/mapping.html\n",
    "\n",
    "bxr_plot = bxr_hh_race_county.plot(column= 'Mean', \n",
    "                       ax = ax,\n",
    "                       cmap = 'RdPu',\n",
    "                       legend = True,\n",
    "                       aspect='auto')\n",
    "                                            \n",
    "\n",
    "#ctx.Place(\"San Antonio, Tx\")\n",
    "\n",
    "ctx.add_basemap(ax, url=xyz.MapTiler.Basic4326, alpha=.75, zoom=5)\n",
    "#ctx.add_basemap(ax, crs= 4269, url='http://maps.stamen.com/m2i/#terrain/1000:1000/10/29.4297/-98.5266', alpha=.50, zoom=18)\n",
    "#ctx.add_basemap(ax, crs=4269, source=ctx.providers.Stamen.TonerLabels, alpha=.90, zoom='auto', attribution_size=12)\n",
    "#ax.set_axis_off()\n",
    "\n",
    "# Stylize plots\n",
    "#plt.style.use('dark_background')\n",
    "\n",
    "\n",
    "#ax.grid(visible=None) #remove grid lines \n",
    "\n",
    "# Set title\n",
    "ax.set_title('The average total of Black/African American Householders in Bexar County from 2015-2019', fontdict = {'fontsize': '12', 'fontweight' : '3'})\n",
    "\n",
    "ax.tick_params(left = False, right = False , labelleft = False ,labelbottom = False, bottom = False)"
   ]
  }
 ],
 "metadata": {
  "kernelspec": {
   "display_name": "Python 3 (ipykernel)",
   "language": "python",
   "name": "python3"
  },
  "language_info": {
   "codemirror_mode": {
    "name": "ipython",
    "version": 3
   },
   "file_extension": ".py",
   "mimetype": "text/x-python",
   "name": "python",
   "nbconvert_exporter": "python",
   "pygments_lexer": "ipython3",
   "version": "3.9.13"
  },
  "vscode": {
   "interpreter": {
    "hash": "578617e37275adef76fcc456b2ca705a8678b1783fb8e896c04aa72c1ce7be2e"
   }
  },
  "widgets": {
   "application/vnd.jupyter.widget-state+json": {
    "state": {},
    "version_major": 2,
    "version_minor": 0
   }
  }
 },
 "nbformat": 4,
 "nbformat_minor": 5
}
