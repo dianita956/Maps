{
 "cells": [
  {
   "cell_type": "code",
   "execution_count": 2,
   "id": "6947e494",
   "metadata": {},
   "outputs": [],
   "source": [
    "import cenpy\n",
    "import contextily as ctx \n",
    "import segregation\n",
    "%matplotlib inline\n",
    "import matplotlib as mpl"
   ]
  },
  {
   "cell_type": "code",
   "execution_count": 3,
   "id": "c8ec0691",
   "metadata": {},
   "outputs": [],
   "source": [
    "import xyzservices.providers as xyz\n",
    "import matplotlib.pyplot as plt #to make sure there are no errors when plotting a graph\n",
    "from contextily import add_basemap\n",
    "import folium "
   ]
  },
  {
   "cell_type": "code",
   "execution_count": 4,
   "id": "3fe3c7cf",
   "metadata": {},
   "outputs": [],
   "source": [
    "import geopandas as gpd \n",
    "from census import Census \n",
    "from us import states\n",
    "from shapely.geometry import Polygon"
   ]
  },
  {
   "cell_type": "code",
   "execution_count": 5,
   "id": "39a68b42",
   "metadata": {},
   "outputs": [],
   "source": [
    "import pandas as pd"
   ]
  },
  {
   "cell_type": "markdown",
   "id": "2da61203",
   "metadata": {},
   "source": [
    "**Census Api**"
   ]
  },
  {
   "cell_type": "code",
   "execution_count": 18,
   "id": "2bdd7d17",
   "metadata": {},
   "outputs": [
    {
     "data": {
      "text/html": [
       "<div>\n",
       "<style scoped>\n",
       "    .dataframe tbody tr th:only-of-type {\n",
       "        vertical-align: middle;\n",
       "    }\n",
       "\n",
       "    .dataframe tbody tr th {\n",
       "        vertical-align: top;\n",
       "    }\n",
       "\n",
       "    .dataframe thead th {\n",
       "        text-align: right;\n",
       "    }\n",
       "</style>\n",
       "<table border=\"1\" class=\"dataframe\">\n",
       "  <thead>\n",
       "    <tr style=\"text-align: right;\">\n",
       "      <th></th>\n",
       "      <th>description</th>\n",
       "      <th>columns</th>\n",
       "    </tr>\n",
       "    <tr>\n",
       "      <th>table_name</th>\n",
       "      <th></th>\n",
       "      <th></th>\n",
       "    </tr>\n",
       "  </thead>\n",
       "  <tbody>\n",
       "    <tr>\n",
       "      <th>B25087</th>\n",
       "      <td>MORTGAGE STATUS AND SELECTED MONTHLY OWNER COSTS</td>\n",
       "      <td>[B25087_001E, B25087_002E, B25087_003E, B25087...</td>\n",
       "    </tr>\n",
       "    <tr>\n",
       "      <th>B25088</th>\n",
       "      <td>MEDIAN SELECTED MONTHLY OWNER COSTS (DOLLARS) ...</td>\n",
       "      <td>[B25088_001E, B25088_002E, B25088_003E]</td>\n",
       "    </tr>\n",
       "    <tr>\n",
       "      <th>B25089</th>\n",
       "      <td>AGGREGATE SELECTED MONTHLY OWNER COSTS (DOLLAR...</td>\n",
       "      <td>[B25089_001E, B25089_002E, B25089_003E]</td>\n",
       "    </tr>\n",
       "    <tr>\n",
       "      <th>B25091</th>\n",
       "      <td>MORTGAGE STATUS BY SELECTED MONTHLY OWNER COST...</td>\n",
       "      <td>[B25091_001E, B25091_002E, B25091_003E, B25091...</td>\n",
       "    </tr>\n",
       "    <tr>\n",
       "      <th>B25092</th>\n",
       "      <td>MEDIAN SELECTED MONTHLY OWNER COSTS AS A PERCE...</td>\n",
       "      <td>[B25092_001E, B25092_002E, B25092_003E]</td>\n",
       "    </tr>\n",
       "    <tr>\n",
       "      <th>B25093</th>\n",
       "      <td>AGE OF HOUSEHOLDER BY SELECTED MONTHLY OWNER C...</td>\n",
       "      <td>[B25093_001E, B25093_002E, B25093_003E, B25093...</td>\n",
       "    </tr>\n",
       "    <tr>\n",
       "      <th>B25094</th>\n",
       "      <td>SELECTED MONTHLY OWNER COSTS</td>\n",
       "      <td>[B25094_001E, B25094_002E, B25094_003E, B25094...</td>\n",
       "    </tr>\n",
       "    <tr>\n",
       "      <th>B25095</th>\n",
       "      <td>HOUSEHOLD INCOME BY SELECTED MONTHLY OWNER COS...</td>\n",
       "      <td>[B25095_001E, B25095_002E, B25095_003E, B25095...</td>\n",
       "    </tr>\n",
       "    <tr>\n",
       "      <th>B992522</th>\n",
       "      <td>ALLOCATION OF MORTGAGE STATUS AND SELECTED MON...</td>\n",
       "      <td>[B992522_001E, B992522_002E, B992522_003E, B99...</td>\n",
       "    </tr>\n",
       "    <tr>\n",
       "      <th>B992523</th>\n",
       "      <td>ALLOCATION OF SELECTED MONTHLY OWNER COSTS FOR...</td>\n",
       "      <td>[B992523_001E, B992523_002E, B992523_003E]</td>\n",
       "    </tr>\n",
       "  </tbody>\n",
       "</table>\n",
       "</div>"
      ],
      "text/plain": [
       "                                                  description  \\\n",
       "table_name                                                      \n",
       "B25087       MORTGAGE STATUS AND SELECTED MONTHLY OWNER COSTS   \n",
       "B25088      MEDIAN SELECTED MONTHLY OWNER COSTS (DOLLARS) ...   \n",
       "B25089      AGGREGATE SELECTED MONTHLY OWNER COSTS (DOLLAR...   \n",
       "B25091      MORTGAGE STATUS BY SELECTED MONTHLY OWNER COST...   \n",
       "B25092      MEDIAN SELECTED MONTHLY OWNER COSTS AS A PERCE...   \n",
       "B25093      AGE OF HOUSEHOLDER BY SELECTED MONTHLY OWNER C...   \n",
       "B25094                           SELECTED MONTHLY OWNER COSTS   \n",
       "B25095      HOUSEHOLD INCOME BY SELECTED MONTHLY OWNER COS...   \n",
       "B992522     ALLOCATION OF MORTGAGE STATUS AND SELECTED MON...   \n",
       "B992523     ALLOCATION OF SELECTED MONTHLY OWNER COSTS FOR...   \n",
       "\n",
       "                                                      columns  \n",
       "table_name                                                     \n",
       "B25087      [B25087_001E, B25087_002E, B25087_003E, B25087...  \n",
       "B25088                [B25088_001E, B25088_002E, B25088_003E]  \n",
       "B25089                [B25089_001E, B25089_002E, B25089_003E]  \n",
       "B25091      [B25091_001E, B25091_002E, B25091_003E, B25091...  \n",
       "B25092                [B25092_001E, B25092_002E, B25092_003E]  \n",
       "B25093      [B25093_001E, B25093_002E, B25093_003E, B25093...  \n",
       "B25094      [B25094_001E, B25094_002E, B25094_003E, B25094...  \n",
       "B25095      [B25095_001E, B25095_002E, B25095_003E, B25095...  \n",
       "B992522     [B992522_001E, B992522_002E, B992522_003E, B99...  \n",
       "B992523            [B992523_001E, B992523_002E, B992523_003E]  "
      ]
     },
     "execution_count": 18,
     "metadata": {},
     "output_type": "execute_result"
    }
   ],
   "source": [
    "acs=cenpy.products.ACS(year=\"latest\")  \n",
    "acs.filter_tables('OWNER', by='description')\n"
   ]
  },
  {
   "cell_type": "code",
   "execution_count": null,
   "id": "0b68bb1f",
   "metadata": {},
   "outputs": [],
   "source": [
    "c = Census('f5e7cf46eaa83ae8323e6051f74d9ab363d0b957')"
   ]
  },
  {
   "cell_type": "code",
   "execution_count": null,
   "id": "86c3d86e",
   "metadata": {},
   "outputs": [],
   "source": [
    "# Sources: https://api.census.gov/data/2019/acs/acs5/variables.html; https://pypi.org/project/census/\n",
    "bxr_race = c.acs5.state_county_tract(fields = ('NAME', 'B02001_003E','B02001_001E' ),\n",
    "                                      state_fips = states.TX.fips, \n",
    "                                      county_fips = \"029\",\n",
    "                                      tract = \"*\",\n",
    "                                      year = 2019)"
   ]
  },
  {
   "cell_type": "code",
   "execution_count": null,
   "id": "5d6ec8eb",
   "metadata": {},
   "outputs": [],
   "source": [
    "bxr_df = pd.DataFrame(bxr_race)"
   ]
  },
  {
   "cell_type": "code",
   "execution_count": null,
   "id": "20cc1d87",
   "metadata": {},
   "outputs": [],
   "source": [
    "print(bxr_df.head(2))\n",
    "print('Shape: ', bxr_df.shape)"
   ]
  },
  {
   "cell_type": "markdown",
   "id": "d15de10b",
   "metadata": {},
   "source": [
    "access shapefile of bexar county"
   ]
  },
  {
   "cell_type": "code",
   "execution_count": null,
   "id": "02aea94f",
   "metadata": {},
   "outputs": [],
   "source": [
    "bxr_census_tract = gpd.read_file(\"https://www2.census.gov/geo/tiger/TIGER2019/TRACT/tl_2019_48_tract.zip\")\n",
    "\n",
    "print(bxr_census_tract)"
   ]
  },
  {
   "cell_type": "code",
   "execution_count": null,
   "id": "e5e44e7d",
   "metadata": {},
   "outputs": [],
   "source": [
    "print(bxr_census_tract.head(2))\n",
    "\n",
    "print('Shape: ', bxr_census_tract.shape)\n",
    "\n",
    "# Check shapefile projection\n",
    "print(\"\\nThe shapefile projection is: {}\".format(bxr_census_tract.crs))"
   ]
  },
  {
   "cell_type": "code",
   "execution_count": null,
   "id": "addd33f3",
   "metadata": {},
   "outputs": [],
   "source": [
    "bxr_census_tract.plot('COUNTYFP', legend=True, figsize=(20,20))"
   ]
  },
  {
   "cell_type": "markdown",
   "id": "c633f12a",
   "metadata": {},
   "source": [
    "performing dataframe operations"
   ]
  },
  {
   "cell_type": "code",
   "execution_count": null,
   "id": "a94a3228",
   "metadata": {},
   "outputs": [],
   "source": [
    "# Combine state, county, and tract columns together to create a new string and assign to new column\n",
    "bxr_df[\"GEOID\"] = bxr_df[\"state\"] + bxr_df[\"county\"] + bxr_df[\"tract\"]"
   ]
  },
  {
   "cell_type": "code",
   "execution_count": null,
   "id": "b9e81c53",
   "metadata": {},
   "outputs": [],
   "source": [
    "bxr_df.head(2)"
   ]
  },
  {
   "cell_type": "code",
   "execution_count": null,
   "id": "c25b38d3",
   "metadata": {},
   "outputs": [],
   "source": [
    "# Remove columns\n",
    "bxr_df = bxr_df.drop(columns = [\"state\", \"county\", \"tract\"])\n",
    "\n",
    "# Show updated dataframe\n",
    "bxr_df.head(2)"
   ]
  },
  {
   "cell_type": "code",
   "execution_count": null,
   "id": "57ed66b9",
   "metadata": {},
   "outputs": [],
   "source": [
    "# Check column data types for census data\n",
    "print(\"Column data types for census data:\\n{}\".format(bxr_df.dtypes))\n",
    "\n",
    "# Check column data types for census shapefile\n",
    "print(\"\\nColumn data types for census shapefile:\\n{}\".format(bxr_census_tract.dtypes))\n",
    "\n",
    "# Source: https://pandas.pydata.org/pandas-docs/stable/reference/api/pandas.DataFrame.dtypes.html"
   ]
  },
  {
   "cell_type": "code",
   "execution_count": null,
   "id": "f84bdf51",
   "metadata": {},
   "outputs": [],
   "source": [
    "# Join the attributes of the dataframes together\n",
    "# Source: https://geopandas.org/docs/user_guide/mergingdata.html\n",
    "bxr_merge = bxr_census_tract.merge(bxr_df, on = \"GEOID\")\n",
    "\n",
    "# Show result\n",
    "print(bxr_merge.head(2))\n",
    "print('Shape: ', bxr_merge.shape)"
   ]
  },
  {
   "cell_type": "code",
   "execution_count": null,
   "id": "a2be8682",
   "metadata": {},
   "outputs": [],
   "source": [
    "# Create new dataframe from select columns\n",
    "bxr_population_tract = bxr_merge[[\"STATEFP\", \"COUNTYFP\", \"TRACTCE\", \"GEOID\", \"geometry\", \"B02001_003E\", \"B02001_001E\"]]\n",
    "\n",
    "# Show dataframe\n",
    "print(bxr_population_tract.head(2))\n",
    "print('Shape: ', bxr_population_tract.shape)"
   ]
  },
  {
   "cell_type": "code",
   "execution_count": null,
   "id": "d0d55972",
   "metadata": {},
   "outputs": [],
   "source": [
    "# Dissolve and group the census tracts within each county and aggregate all the values together\n",
    "# Source: https://geopandas.org/docs/user_guide/aggregation_with_dissolve.html\n",
    "bxr_population_county = bxr_population_tract.dissolve(by = 'COUNTYFP', aggfunc = 'sum')\n",
    "\n",
    "# Show dataframe\n",
    "print(bxr_population_county.head(2))\n",
    "print('Shape: ', bxr_population_county.shape)"
   ]
  },
  {
   "cell_type": "code",
   "execution_count": null,
   "id": "6c4bfaf8",
   "metadata": {},
   "outputs": [],
   "source": [
    "# Get poverty rate and store values in new column\n",
    "bxr_population_county[\"Population_Rate\"] = (bxr_population_county[\"B02001_003E\"] + bxr_population_county[\"B02001_001E\"])/ bxr_population_county[\"B02001_001E\"] * 100\n",
    "\n",
    "\n",
    "# Show dataframe\n",
    "bxr_population_county.head(2)  "
   ]
  },
  {
   "cell_type": "code",
   "execution_count": null,
   "id": "b9fd3962",
   "metadata": {},
   "outputs": [],
   "source": [
    "# Create subplots\n",
    "fig, ax = plt.subplots(1, 1, figsize = (20, 10))\n",
    "\n",
    "# Plot data\n",
    "# Source: https://geopandas.readthedocs.io/en/latest/docs/user_guide/mapping.html\n",
    "bxr_population_county.plot(column = \"Population_Rate\",\n",
    "                       ax = ax,\n",
    "                       cmap = \"RdPu\",\n",
    "                       legend = True)\n",
    "\n",
    "# Stylize plots\n",
    "plt.style.use('bmh')\n",
    "\n",
    "# Set title\n",
    "ax.set_title('Population Rates (%) in Bexar County', fontdict = {'fontsize': '25', 'fontweight' : '3'})"
   ]
  }
 ],
 "metadata": {
  "kernelspec": {
   "display_name": "Python 3 (ipykernel)",
   "language": "python",
   "name": "python3"
  },
  "language_info": {
   "codemirror_mode": {
    "name": "ipython",
    "version": 3
   },
   "file_extension": ".py",
   "mimetype": "text/x-python",
   "name": "python",
   "nbconvert_exporter": "python",
   "pygments_lexer": "ipython3",
   "version": "3.9.13"
  },
  "vscode": {
   "interpreter": {
    "hash": "578617e37275adef76fcc456b2ca705a8678b1783fb8e896c04aa72c1ce7be2e"
   }
  },
  "widgets": {
   "application/vnd.jupyter.widget-state+json": {
    "state": {},
    "version_major": 2,
    "version_minor": 0
   }
  }
 },
 "nbformat": 4,
 "nbformat_minor": 5
}
