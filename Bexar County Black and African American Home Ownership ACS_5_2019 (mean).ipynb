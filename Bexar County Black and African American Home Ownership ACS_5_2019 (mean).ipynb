{
 "cells": [
  {
   "cell_type": "code",
   "execution_count": 1,
   "id": "6947e494",
   "metadata": {},
   "outputs": [],
   "source": [
    "import cenpy\n",
    "import contextily as ctx \n",
    "import segregation\n",
    "%matplotlib inline\n",
    "import matplotlib as mpl"
   ]
  },
  {
   "cell_type": "code",
   "execution_count": 2,
   "id": "c8ec0691",
   "metadata": {},
   "outputs": [],
   "source": [
    "import xyzservices.providers as xyz\n",
    "import matplotlib.pyplot as plt #to make sure there are no errors when plotting a graph\n",
    "from contextily import add_basemap\n",
    "import folium "
   ]
  },
  {
   "cell_type": "code",
   "execution_count": 3,
   "id": "3fe3c7cf",
   "metadata": {},
   "outputs": [],
   "source": [
    "import geopandas as gpd \n",
    "from census import Census \n",
    "from us import states\n",
    "from shapely.geometry import Polygon"
   ]
  },
  {
   "cell_type": "code",
   "execution_count": 4,
   "id": "39a68b42",
   "metadata": {},
   "outputs": [],
   "source": [
    "import pandas as pd"
   ]
  },
  {
   "cell_type": "code",
   "execution_count": 5,
   "id": "85df7ab5",
   "metadata": {},
   "outputs": [],
   "source": [
    "from contextily import Place\n"
   ]
  },
  {
   "cell_type": "markdown",
   "id": "2da61203",
   "metadata": {},
   "source": [
    "**Census Api**"
   ]
  },
  {
   "cell_type": "code",
   "execution_count": 6,
   "id": "2bdd7d17",
   "metadata": {},
   "outputs": [
    {
     "data": {
      "text/html": [
       "<div>\n",
       "<style scoped>\n",
       "    .dataframe tbody tr th:only-of-type {\n",
       "        vertical-align: middle;\n",
       "    }\n",
       "\n",
       "    .dataframe tbody tr th {\n",
       "        vertical-align: top;\n",
       "    }\n",
       "\n",
       "    .dataframe thead th {\n",
       "        text-align: right;\n",
       "    }\n",
       "</style>\n",
       "<table border=\"1\" class=\"dataframe\">\n",
       "  <thead>\n",
       "    <tr style=\"text-align: right;\">\n",
       "      <th></th>\n",
       "      <th>description</th>\n",
       "      <th>columns</th>\n",
       "    </tr>\n",
       "    <tr>\n",
       "      <th>table_name</th>\n",
       "      <th></th>\n",
       "      <th></th>\n",
       "    </tr>\n",
       "  </thead>\n",
       "  <tbody>\n",
       "    <tr>\n",
       "      <th>B01003</th>\n",
       "      <td>TOTAL POPULATION</td>\n",
       "      <td>[B01003_001E]</td>\n",
       "    </tr>\n",
       "    <tr>\n",
       "      <th>B05006</th>\n",
       "      <td>PLACE OF BIRTH FOR THE FOREIGN-BORN POPULATION...</td>\n",
       "      <td>[B05006_001E, B05006_002E, B05006_003E, B05006...</td>\n",
       "    </tr>\n",
       "    <tr>\n",
       "      <th>B05007</th>\n",
       "      <td>PLACE OF BIRTH BY YEAR OF ENTRY BY CITIZENSHIP...</td>\n",
       "      <td>[B05007_001E, B05007_002E, B05007_003E, B05007...</td>\n",
       "    </tr>\n",
       "    <tr>\n",
       "      <th>B05008</th>\n",
       "      <td>SEX BY PLACE OF BIRTH BY YEAR OF ENTRY FOR THE...</td>\n",
       "      <td>[B05008_001E, B05008_002E, B05008_003E, B05008...</td>\n",
       "    </tr>\n",
       "    <tr>\n",
       "      <th>B05013</th>\n",
       "      <td>SEX BY AGE FOR THE FOREIGN-BORN POPULATION</td>\n",
       "      <td>[B05013_001E, B05013_002E, B05013_003E, B05013...</td>\n",
       "    </tr>\n",
       "    <tr>\n",
       "      <th>...</th>\n",
       "      <td>...</td>\n",
       "      <td>...</td>\n",
       "    </tr>\n",
       "    <tr>\n",
       "      <th>C24030</th>\n",
       "      <td>SEX BY INDUSTRY FOR THE CIVILIAN EMPLOYED POPU...</td>\n",
       "      <td>[C24030_001E, C24030_002E, C24030_003E, C24030...</td>\n",
       "    </tr>\n",
       "    <tr>\n",
       "      <th>C24040</th>\n",
       "      <td>SEX BY INDUSTRY FOR THE FULL-TIME, YEAR-ROUND ...</td>\n",
       "      <td>[C24040_001E, C24040_002E, C24040_003E, C24040...</td>\n",
       "    </tr>\n",
       "    <tr>\n",
       "      <th>C24050</th>\n",
       "      <td>INDUSTRY BY OCCUPATION FOR THE CIVILIAN  EMPLO...</td>\n",
       "      <td>[C24050_001E, C24050_002E, C24050_003E, C24050...</td>\n",
       "    </tr>\n",
       "    <tr>\n",
       "      <th>C24060</th>\n",
       "      <td>OCCUPATION BY CLASS OF WORKER FOR THE CIVILIAN...</td>\n",
       "      <td>[C24060_001E, C24060_002E, C24060_003E, C24060...</td>\n",
       "    </tr>\n",
       "    <tr>\n",
       "      <th>C24070</th>\n",
       "      <td>INDUSTRY BY CLASS OF WORKER FOR THE CIVILIAN E...</td>\n",
       "      <td>[C24070_001E, C24070_002E, C24070_003E, C24070...</td>\n",
       "    </tr>\n",
       "  </tbody>\n",
       "</table>\n",
       "<p>143 rows × 2 columns</p>\n",
       "</div>"
      ],
      "text/plain": [
       "                                                  description  \\\n",
       "table_name                                                      \n",
       "B01003                                       TOTAL POPULATION   \n",
       "B05006      PLACE OF BIRTH FOR THE FOREIGN-BORN POPULATION...   \n",
       "B05007      PLACE OF BIRTH BY YEAR OF ENTRY BY CITIZENSHIP...   \n",
       "B05008      SEX BY PLACE OF BIRTH BY YEAR OF ENTRY FOR THE...   \n",
       "B05013             SEX BY AGE FOR THE FOREIGN-BORN POPULATION   \n",
       "...                                                       ...   \n",
       "C24030      SEX BY INDUSTRY FOR THE CIVILIAN EMPLOYED POPU...   \n",
       "C24040      SEX BY INDUSTRY FOR THE FULL-TIME, YEAR-ROUND ...   \n",
       "C24050      INDUSTRY BY OCCUPATION FOR THE CIVILIAN  EMPLO...   \n",
       "C24060      OCCUPATION BY CLASS OF WORKER FOR THE CIVILIAN...   \n",
       "C24070      INDUSTRY BY CLASS OF WORKER FOR THE CIVILIAN E...   \n",
       "\n",
       "                                                      columns  \n",
       "table_name                                                     \n",
       "B01003                                          [B01003_001E]  \n",
       "B05006      [B05006_001E, B05006_002E, B05006_003E, B05006...  \n",
       "B05007      [B05007_001E, B05007_002E, B05007_003E, B05007...  \n",
       "B05008      [B05008_001E, B05008_002E, B05008_003E, B05008...  \n",
       "B05013      [B05013_001E, B05013_002E, B05013_003E, B05013...  \n",
       "...                                                       ...  \n",
       "C24030      [C24030_001E, C24030_002E, C24030_003E, C24030...  \n",
       "C24040      [C24040_001E, C24040_002E, C24040_003E, C24040...  \n",
       "C24050      [C24050_001E, C24050_002E, C24050_003E, C24050...  \n",
       "C24060      [C24060_001E, C24060_002E, C24060_003E, C24060...  \n",
       "C24070      [C24070_001E, C24070_002E, C24070_003E, C24070...  \n",
       "\n",
       "[143 rows x 2 columns]"
      ]
     },
     "execution_count": 6,
     "metadata": {},
     "output_type": "execute_result"
    }
   ],
   "source": [
    "acs=cenpy.products.ACS(year=\"latest\")  \n",
    "acs.filter_tables('POPULATION', by='description')\n"
   ]
  },
  {
   "cell_type": "code",
   "execution_count": 7,
   "id": "0b68bb1f",
   "metadata": {},
   "outputs": [],
   "source": [
    "c = Census('f5e7cf46eaa83ae8323e6051f74d9ab363d0b957')"
   ]
  },
  {
   "cell_type": "code",
   "execution_count": 8,
   "id": "86c3d86e",
   "metadata": {},
   "outputs": [],
   "source": [
    "# Sources: https://api.census.gov/data/2019/acs/acs5/variables.html; https://pypi.org/project/census/\n",
    "bxr_householder_by_race = c.acs5.state_county_tract(fields = ('NAME', 'B25006_001E', # All Race of Householders\n",
    "                                                                'B25006_003E', # Black Race of Householders\n",
    "                                                                ), \n",
    "                                      state_fips = states.TX.fips, \n",
    "                                      county_fips = \"029\",\n",
    "                                      tract = \"*\",\n",
    "                                      year = 2009)"
   ]
  },
  {
   "cell_type": "code",
   "execution_count": 9,
   "id": "5d6ec8eb",
   "metadata": {},
   "outputs": [],
   "source": [
    "bxr_hh_race_df = pd.DataFrame(bxr_householder_by_race)"
   ]
  },
  {
   "cell_type": "code",
   "execution_count": 10,
   "id": "20cc1d87",
   "metadata": {},
   "outputs": [
    {
     "name": "stdout",
     "output_type": "stream",
     "text": [
      "                                     NAME  B25006_001E  B25006_003E state  \\\n",
      "0  Census Tract 1101, Bexar County, Texas       1280.0         44.0    48   \n",
      "1  Census Tract 1102, Bexar County, Texas        258.0         33.0    48   \n",
      "\n",
      "  county   tract  \n",
      "0    029  110100  \n",
      "1    029  110200  \n",
      "Shape:  (278, 6)\n"
     ]
    }
   ],
   "source": [
    "print(bxr_hh_race_df.head(2))\n",
    "print('Shape: ', bxr_hh_race_df.shape)"
   ]
  },
  {
   "cell_type": "markdown",
   "id": "d15de10b",
   "metadata": {},
   "source": [
    "access shapefile of bexar county. this will coordinate data and alignment with Mercator projection"
   ]
  },
  {
   "cell_type": "code",
   "execution_count": 11,
   "id": "02aea94f",
   "metadata": {},
   "outputs": [],
   "source": [
    "bxr_census_tract = gpd.read_file(\"https://www2.census.gov/geo/tiger/TIGER2019/TRACT/tl_2019_48_tract.zip\")\n"
   ]
  },
  {
   "cell_type": "code",
   "execution_count": 12,
   "id": "e5e44e7d",
   "metadata": {},
   "outputs": [
    {
     "name": "stdout",
     "output_type": "stream",
     "text": [
      "  STATEFP COUNTYFP TRACTCE        GEOID     NAME              NAMELSAD  MTFCC  \\\n",
      "0      48      439  121609  48439121609  1216.09  Census Tract 1216.09  G5020   \n",
      "1      48      187  210708  48187210708  2107.08  Census Tract 2107.08  G5020   \n",
      "\n",
      "  FUNCSTAT    ALAND   AWATER     INTPTLAT      INTPTLON  \\\n",
      "0        S  4036421  2474977  +32.6893777  -097.2140987   \n",
      "1        S  2625635        0  +29.5747421  -098.2516707   \n",
      "\n",
      "                                            geometry  \n",
      "0  POLYGON ((-97.23369 32.67175, -97.23366 32.671...  \n",
      "1  POLYGON ((-98.26254 29.57872, -98.26236 29.578...  \n",
      "Shape:  (5265, 13)\n",
      "\n",
      "The shapefile projection is: epsg:4269\n"
     ]
    }
   ],
   "source": [
    "print(bxr_census_tract.head(2))\n",
    "\n",
    "print('Shape: ', bxr_census_tract.shape)\n",
    "\n",
    "# Check shapefile projection\n",
    "print(\"\\nThe shapefile projection is: {}\".format(bxr_census_tract.crs))"
   ]
  },
  {
   "cell_type": "code",
   "execution_count": 13,
   "id": "addd33f3",
   "metadata": {},
   "outputs": [
    {
     "data": {
      "image/png": "[encoded data removed]",
      "text/plain": [
       "<Figure size 720x720 with 1 Axes>"
      ]
     },
     "metadata": {
      "needs_background": "light"
     },
     "output_type": "display_data"
    }
   ],
   "source": [
    "bxr_census_tract.plot('TRACTCE', legend=False, figsize=(10,10))\n",
    "\n",
    "plt.style.use('dark_background')\n",
    "\n"
   ]
  },
  {
   "cell_type": "markdown",
   "id": "c633f12a",
   "metadata": {},
   "source": [
    "performing dataframe operations= https://pygis.io/docs/e_vector_merge_dissolve.html"
   ]
  },
  {
   "cell_type": "code",
   "execution_count": 14,
   "id": "a94a3228",
   "metadata": {},
   "outputs": [],
   "source": [
    "# Combine state, county, and tract columns together to create a new string and assign to new column\n",
    "bxr_hh_race_df[\"GEOID\"] = bxr_hh_race_df[\"state\"] + bxr_hh_race_df[\"county\"] + bxr_hh_race_df[\"tract\"]"
   ]
  },
  {
   "cell_type": "code",
   "execution_count": 15,
   "id": "b9e81c53",
   "metadata": {},
   "outputs": [
    {
     "data": {
      "text/html": [
       "<div>\n",
       "<style scoped>\n",
       "    .dataframe tbody tr th:only-of-type {\n",
       "        vertical-align: middle;\n",
       "    }\n",
       "\n",
       "    .dataframe tbody tr th {\n",
       "        vertical-align: top;\n",
       "    }\n",
       "\n",
       "    .dataframe thead th {\n",
       "        text-align: right;\n",
       "    }\n",
       "</style>\n",
       "<table border=\"1\" class=\"dataframe\">\n",
       "  <thead>\n",
       "    <tr style=\"text-align: right;\">\n",
       "      <th></th>\n",
       "      <th>NAME</th>\n",
       "      <th>B25006_001E</th>\n",
       "      <th>B25006_003E</th>\n",
       "      <th>state</th>\n",
       "      <th>county</th>\n",
       "      <th>tract</th>\n",
       "      <th>GEOID</th>\n",
       "    </tr>\n",
       "  </thead>\n",
       "  <tbody>\n",
       "    <tr>\n",
       "      <th>0</th>\n",
       "      <td>Census Tract 1101, Bexar County, Texas</td>\n",
       "      <td>1280.0</td>\n",
       "      <td>44.0</td>\n",
       "      <td>48</td>\n",
       "      <td>029</td>\n",
       "      <td>110100</td>\n",
       "      <td>48029110100</td>\n",
       "    </tr>\n",
       "    <tr>\n",
       "      <th>1</th>\n",
       "      <td>Census Tract 1102, Bexar County, Texas</td>\n",
       "      <td>258.0</td>\n",
       "      <td>33.0</td>\n",
       "      <td>48</td>\n",
       "      <td>029</td>\n",
       "      <td>110200</td>\n",
       "      <td>48029110200</td>\n",
       "    </tr>\n",
       "  </tbody>\n",
       "</table>\n",
       "</div>"
      ],
      "text/plain": [
       "                                     NAME  B25006_001E  B25006_003E state  \\\n",
       "0  Census Tract 1101, Bexar County, Texas       1280.0         44.0    48   \n",
       "1  Census Tract 1102, Bexar County, Texas        258.0         33.0    48   \n",
       "\n",
       "  county   tract        GEOID  \n",
       "0    029  110100  48029110100  \n",
       "1    029  110200  48029110200  "
      ]
     },
     "execution_count": 15,
     "metadata": {},
     "output_type": "execute_result"
    }
   ],
   "source": [
    "bxr_hh_race_df.head(2)"
   ]
  },
  {
   "cell_type": "code",
   "execution_count": 16,
   "id": "c25b38d3",
   "metadata": {},
   "outputs": [
    {
     "data": {
      "text/html": [
       "<div>\n",
       "<style scoped>\n",
       "    .dataframe tbody tr th:only-of-type {\n",
       "        vertical-align: middle;\n",
       "    }\n",
       "\n",
       "    .dataframe tbody tr th {\n",
       "        vertical-align: top;\n",
       "    }\n",
       "\n",
       "    .dataframe thead th {\n",
       "        text-align: right;\n",
       "    }\n",
       "</style>\n",
       "<table border=\"1\" class=\"dataframe\">\n",
       "  <thead>\n",
       "    <tr style=\"text-align: right;\">\n",
       "      <th></th>\n",
       "      <th>NAME</th>\n",
       "      <th>B25006_001E</th>\n",
       "      <th>B25006_003E</th>\n",
       "      <th>GEOID</th>\n",
       "    </tr>\n",
       "  </thead>\n",
       "  <tbody>\n",
       "    <tr>\n",
       "      <th>0</th>\n",
       "      <td>Census Tract 1101, Bexar County, Texas</td>\n",
       "      <td>1280.0</td>\n",
       "      <td>44.0</td>\n",
       "      <td>48029110100</td>\n",
       "    </tr>\n",
       "    <tr>\n",
       "      <th>1</th>\n",
       "      <td>Census Tract 1102, Bexar County, Texas</td>\n",
       "      <td>258.0</td>\n",
       "      <td>33.0</td>\n",
       "      <td>48029110200</td>\n",
       "    </tr>\n",
       "  </tbody>\n",
       "</table>\n",
       "</div>"
      ],
      "text/plain": [
       "                                     NAME  B25006_001E  B25006_003E  \\\n",
       "0  Census Tract 1101, Bexar County, Texas       1280.0         44.0   \n",
       "1  Census Tract 1102, Bexar County, Texas        258.0         33.0   \n",
       "\n",
       "         GEOID  \n",
       "0  48029110100  \n",
       "1  48029110200  "
      ]
     },
     "execution_count": 16,
     "metadata": {},
     "output_type": "execute_result"
    }
   ],
   "source": [
    "# Remove columns\n",
    "bxr_hh_race_df = bxr_hh_race_df.drop(columns = [\"state\", \"county\", \"tract\"])\n",
    "\n",
    "# Show updated dataframe\n",
    "bxr_hh_race_df.head(2)"
   ]
  },
  {
   "cell_type": "markdown",
   "id": "9f18a26f",
   "metadata": {},
   "source": [
    "check column data types "
   ]
  },
  {
   "cell_type": "code",
   "execution_count": 17,
   "id": "57ed66b9",
   "metadata": {},
   "outputs": [
    {
     "name": "stdout",
     "output_type": "stream",
     "text": [
      "Column data types for census data:\n",
      "NAME            object\n",
      "B25006_001E    float64\n",
      "B25006_003E    float64\n",
      "GEOID           object\n",
      "dtype: object\n",
      "\n",
      "Column data types for census shapefile:\n",
      "STATEFP       object\n",
      "COUNTYFP      object\n",
      "TRACTCE       object\n",
      "GEOID         object\n",
      "NAME          object\n",
      "NAMELSAD      object\n",
      "MTFCC         object\n",
      "FUNCSTAT      object\n",
      "ALAND          int64\n",
      "AWATER         int64\n",
      "INTPTLAT      object\n",
      "INTPTLON      object\n",
      "geometry    geometry\n",
      "dtype: object\n"
     ]
    }
   ],
   "source": [
    "# Check column data types for census data\n",
    "print(\"Column data types for census data:\\n{}\".format(bxr_hh_race_df.dtypes))\n",
    "\n",
    "# Check column data types for census shapefile\n",
    "print(\"\\nColumn data types for census shapefile:\\n{}\".format(bxr_census_tract.dtypes))\n",
    "\n",
    "# Source: https://pandas.pydata.org/pandas-docs/stable/reference/api/pandas.DataFrame.dtypes.html"
   ]
  },
  {
   "cell_type": "markdown",
   "id": "08d8ebad",
   "metadata": {},
   "source": [
    "merge dataframes"
   ]
  },
  {
   "cell_type": "code",
   "execution_count": 18,
   "id": "f84bdf51",
   "metadata": {},
   "outputs": [
    {
     "name": "stdout",
     "output_type": "stream",
     "text": [
      "  STATEFP COUNTYFP TRACTCE        GEOID NAME_x           NAMELSAD  MTFCC  \\\n",
      "0      48      029  121000  48029121000   1210  Census Tract 1210  G5020   \n",
      "1      48      029  190700  48029190700   1907  Census Tract 1907  G5020   \n",
      "\n",
      "  FUNCSTAT    ALAND  AWATER     INTPTLAT      INTPTLON  \\\n",
      "0        S  6640253   33515  +29.5322204  -098.4454653   \n",
      "1        S  1461126       0  +29.4774628  -098.4955937   \n",
      "\n",
      "                                            geometry  \\\n",
      "0  POLYGON ((-98.46917 29.51845, -98.46904 29.518...   \n",
      "1  POLYGON ((-98.49932 29.47243, -98.49929 29.472...   \n",
      "\n",
      "                                   NAME_y  B25006_001E  B25006_003E  \n",
      "0  Census Tract 1210, Bexar County, Texas       3005.0         91.0  \n",
      "1  Census Tract 1907, Bexar County, Texas       1353.0        106.0  \n",
      "Shape:  (194, 16)\n"
     ]
    }
   ],
   "source": [
    "# Join the attributes of the dataframes together\n",
    "# Source: https://geopandas.org/docs/user_guide/mergingdata.html\n",
    "bxr_merge = bxr_census_tract.merge(bxr_hh_race_df, on = \"GEOID\")\n",
    "\n",
    "# Show result\n",
    "print(bxr_merge.head(2))\n",
    "print('Shape: ', bxr_merge.shape)"
   ]
  },
  {
   "cell_type": "markdown",
   "id": "26c05396",
   "metadata": {},
   "source": [
    "Subset dataframe. working with bxr_merge shapefile"
   ]
  },
  {
   "cell_type": "code",
   "execution_count": 19,
   "id": "a2be8682",
   "metadata": {},
   "outputs": [
    {
     "name": "stdout",
     "output_type": "stream",
     "text": [
      "  STATEFP COUNTYFP TRACTCE        GEOID  \\\n",
      "0      48      029  121000  48029121000   \n",
      "1      48      029  190700  48029190700   \n",
      "\n",
      "                                            geometry  B25006_001E  B25006_003E  \n",
      "0  POLYGON ((-98.46917 29.51845, -98.46904 29.518...       3005.0         91.0  \n",
      "1  POLYGON ((-98.49932 29.47243, -98.49929 29.472...       1353.0        106.0  \n",
      "Shape:  (194, 7)\n"
     ]
    }
   ],
   "source": [
    "# Create new dataframe from select columns\n",
    "bxr_hh_race_tract = bxr_merge[[\"STATEFP\", \"COUNTYFP\", \"TRACTCE\", \"GEOID\", \"geometry\", \"B25006_001E\", \"B25006_003E\"]]\n",
    "\n",
    "# Show dataframe\n",
    "print(bxr_hh_race_tract.head(2))\n",
    "print('Shape: ', bxr_hh_race_tract.shape)"
   ]
  },
  {
   "cell_type": "code",
   "execution_count": 20,
   "id": "d0d55972",
   "metadata": {},
   "outputs": [
    {
     "name": "stdout",
     "output_type": "stream",
     "text": [
      "                                                  geometry  B25006_001E  \\\n",
      "TRACTCE                                                                   \n",
      "110100   POLYGON ((-98.50150 29.43284, -98.50141 29.432...       1280.0   \n",
      "110300   POLYGON ((-98.48951 29.41564, -98.48907 29.415...       1161.0   \n",
      "110500   POLYGON ((-98.51493 29.41416, -98.51486 29.414...        779.0   \n",
      "110600   POLYGON ((-98.51382 29.42267, -98.51381 29.422...       1142.0   \n",
      "110700   POLYGON ((-98.51508 29.44412, -98.51496 29.444...        590.0   \n",
      "\n",
      "         B25006_003E  \n",
      "TRACTCE               \n",
      "110100          44.0  \n",
      "110300         131.0  \n",
      "110500          44.0  \n",
      "110600           0.0  \n",
      "110700          35.0  \n",
      "Shape:  (194, 3)\n"
     ]
    }
   ],
   "source": [
    "# Dissolve and group the census tracts within each county and aggregate all the values together\n",
    "# Source: https://geopandas.org/docs/user_guide/aggregation_with_dissolve.html\n",
    "bxr_hh_race_county = bxr_hh_race_tract.dissolve(by = 'TRACTCE', aggfunc = 'mean')\n",
    "\n",
    "# Show dataframe\n",
    "print(bxr_hh_race_county.head())\n",
    "print('Shape: ', bxr_hh_race_county.shape)"
   ]
  },
  {
   "cell_type": "code",
   "execution_count": 21,
   "id": "6c4bfaf8",
   "metadata": {},
   "outputs": [
    {
     "data": {
      "text/html": [
       "<div>\n",
       "<style scoped>\n",
       "    .dataframe tbody tr th:only-of-type {\n",
       "        vertical-align: middle;\n",
       "    }\n",
       "\n",
       "    .dataframe tbody tr th {\n",
       "        vertical-align: top;\n",
       "    }\n",
       "\n",
       "    .dataframe thead th {\n",
       "        text-align: right;\n",
       "    }\n",
       "</style>\n",
       "<table border=\"1\" class=\"dataframe\">\n",
       "  <thead>\n",
       "    <tr style=\"text-align: right;\">\n",
       "      <th></th>\n",
       "      <th>geometry</th>\n",
       "      <th>B25006_001E</th>\n",
       "      <th>B25006_003E</th>\n",
       "      <th>Percentage</th>\n",
       "    </tr>\n",
       "    <tr>\n",
       "      <th>TRACTCE</th>\n",
       "      <th></th>\n",
       "      <th></th>\n",
       "      <th></th>\n",
       "      <th></th>\n",
       "    </tr>\n",
       "  </thead>\n",
       "  <tbody>\n",
       "    <tr>\n",
       "      <th>110100</th>\n",
       "      <td>POLYGON ((-98.50150 29.43284, -98.50141 29.432...</td>\n",
       "      <td>1280.0</td>\n",
       "      <td>44.0</td>\n",
       "      <td>3.437500</td>\n",
       "    </tr>\n",
       "    <tr>\n",
       "      <th>110300</th>\n",
       "      <td>POLYGON ((-98.48951 29.41564, -98.48907 29.415...</td>\n",
       "      <td>1161.0</td>\n",
       "      <td>131.0</td>\n",
       "      <td>11.283376</td>\n",
       "    </tr>\n",
       "    <tr>\n",
       "      <th>110500</th>\n",
       "      <td>POLYGON ((-98.51493 29.41416, -98.51486 29.414...</td>\n",
       "      <td>779.0</td>\n",
       "      <td>44.0</td>\n",
       "      <td>5.648267</td>\n",
       "    </tr>\n",
       "    <tr>\n",
       "      <th>110600</th>\n",
       "      <td>POLYGON ((-98.51382 29.42267, -98.51381 29.422...</td>\n",
       "      <td>1142.0</td>\n",
       "      <td>0.0</td>\n",
       "      <td>0.000000</td>\n",
       "    </tr>\n",
       "    <tr>\n",
       "      <th>110700</th>\n",
       "      <td>POLYGON ((-98.51508 29.44412, -98.51496 29.444...</td>\n",
       "      <td>590.0</td>\n",
       "      <td>35.0</td>\n",
       "      <td>5.932203</td>\n",
       "    </tr>\n",
       "    <tr>\n",
       "      <th>110800</th>\n",
       "      <td>POLYGON ((-98.49936 29.44703, -98.49836 29.447...</td>\n",
       "      <td>896.0</td>\n",
       "      <td>110.0</td>\n",
       "      <td>12.276786</td>\n",
       "    </tr>\n",
       "    <tr>\n",
       "      <th>110900</th>\n",
       "      <td>POLYGON ((-98.48973 29.43855, -98.48874 29.439...</td>\n",
       "      <td>170.0</td>\n",
       "      <td>0.0</td>\n",
       "      <td>0.000000</td>\n",
       "    </tr>\n",
       "    <tr>\n",
       "      <th>111000</th>\n",
       "      <td>POLYGON ((-98.48010 29.43690, -98.47996 29.437...</td>\n",
       "      <td>812.0</td>\n",
       "      <td>72.0</td>\n",
       "      <td>8.866995</td>\n",
       "    </tr>\n",
       "    <tr>\n",
       "      <th>120100</th>\n",
       "      <td>POLYGON ((-98.47386 29.44534, -98.47362 29.445...</td>\n",
       "      <td>760.0</td>\n",
       "      <td>213.0</td>\n",
       "      <td>28.026316</td>\n",
       "    </tr>\n",
       "    <tr>\n",
       "      <th>120300</th>\n",
       "      <td>POLYGON ((-98.48216 29.48961, -98.48207 29.490...</td>\n",
       "      <td>3101.0</td>\n",
       "      <td>77.0</td>\n",
       "      <td>2.483070</td>\n",
       "    </tr>\n",
       "  </tbody>\n",
       "</table>\n",
       "</div>"
      ],
      "text/plain": [
       "                                                  geometry  B25006_001E  \\\n",
       "TRACTCE                                                                   \n",
       "110100   POLYGON ((-98.50150 29.43284, -98.50141 29.432...       1280.0   \n",
       "110300   POLYGON ((-98.48951 29.41564, -98.48907 29.415...       1161.0   \n",
       "110500   POLYGON ((-98.51493 29.41416, -98.51486 29.414...        779.0   \n",
       "110600   POLYGON ((-98.51382 29.42267, -98.51381 29.422...       1142.0   \n",
       "110700   POLYGON ((-98.51508 29.44412, -98.51496 29.444...        590.0   \n",
       "110800   POLYGON ((-98.49936 29.44703, -98.49836 29.447...        896.0   \n",
       "110900   POLYGON ((-98.48973 29.43855, -98.48874 29.439...        170.0   \n",
       "111000   POLYGON ((-98.48010 29.43690, -98.47996 29.437...        812.0   \n",
       "120100   POLYGON ((-98.47386 29.44534, -98.47362 29.445...        760.0   \n",
       "120300   POLYGON ((-98.48216 29.48961, -98.48207 29.490...       3101.0   \n",
       "\n",
       "         B25006_003E  Percentage  \n",
       "TRACTCE                           \n",
       "110100          44.0    3.437500  \n",
       "110300         131.0   11.283376  \n",
       "110500          44.0    5.648267  \n",
       "110600           0.0    0.000000  \n",
       "110700          35.0    5.932203  \n",
       "110800         110.0   12.276786  \n",
       "110900           0.0    0.000000  \n",
       "111000          72.0    8.866995  \n",
       "120100         213.0   28.026316  \n",
       "120300          77.0    2.483070  "
      ]
     },
     "execution_count": 21,
     "metadata": {},
     "output_type": "execute_result"
    }
   ],
   "source": [
    "# Get householder by race rate and store values in new column\n",
    "bxr_hh_race_county['Percentage'] = (bxr_hh_race_county[\"B25006_003E\"]/bxr_hh_race_county[\"B25006_001E\"])*100\n",
    "\n",
    "\n",
    "# Show dataframe\n",
    "bxr_hh_race_county.head(10)  "
   ]
  },
  {
   "cell_type": "code",
   "execution_count": 22,
   "id": "802b7505",
   "metadata": {},
   "outputs": [],
   "source": [
    "import rasterio\n",
    "from rasterio.plot import show as rioshow\n",
    "from contextily.tile import warp_img_transform, warp_tiles, _warper"
   ]
  },
  {
   "cell_type": "code",
   "execution_count": 23,
   "id": "aef0cac0",
   "metadata": {},
   "outputs": [
    {
     "data": {
      "text/plain": [
       "{'AeronavFAA': 'r',\n",
       " 'ARCGEN': 'r',\n",
       " 'BNA': 'raw',\n",
       " 'DXF': 'raw',\n",
       " 'CSV': 'raw',\n",
       " 'OpenFileGDB': 'r',\n",
       " 'ESRIJSON': 'r',\n",
       " 'ESRI Shapefile': 'raw',\n",
       " 'GeoJSON': 'rw',\n",
       " 'GeoJSONSeq': 'rw',\n",
       " 'GPKG': 'rw',\n",
       " 'GML': 'raw',\n",
       " 'GPX': 'raw',\n",
       " 'GPSTrackMaker': 'raw',\n",
       " 'Idrisi': 'r',\n",
       " 'MapInfo File': 'raw',\n",
       " 'DGN': 'raw',\n",
       " 'PCIDSK': 'r',\n",
       " 'S57': 'r',\n",
       " 'SEGY': 'r',\n",
       " 'SUA': 'r',\n",
       " 'TopoJSON': 'r'}"
      ]
     },
     "execution_count": 23,
     "metadata": {},
     "output_type": "execute_result"
    }
   ],
   "source": [
    "import fiona\n",
    "fiona.supported_drivers"
   ]
  },
  {
   "cell_type": "code",
   "execution_count": 24,
   "id": "93215580",
   "metadata": {},
   "outputs": [
    {
     "data": {
      "text/plain": [
       "<Geographic 2D CRS: EPSG:4269>\n",
       "Name: NAD83\n",
       "Axis Info [ellipsoidal]:\n",
       "- Lat[north]: Geodetic latitude (degree)\n",
       "- Lon[east]: Geodetic longitude (degree)\n",
       "Area of Use:\n",
       "- name: North America - NAD83\n",
       "- bounds: (167.65, 14.92, -47.74, 86.46)\n",
       "Datum: North American Datum 1983\n",
       "- Ellipsoid: GRS 1980\n",
       "- Prime Meridian: Greenwich"
      ]
     },
     "execution_count": 24,
     "metadata": {},
     "output_type": "execute_result"
    }
   ],
   "source": [
    "bxr_hh_race_county.crs"
   ]
  },
  {
   "cell_type": "code",
   "execution_count": 25,
   "id": "a78901e5",
   "metadata": {},
   "outputs": [],
   "source": [
    "bxr_hhr_basemap, bxr_hhr_extent = ctx.bounds2img(*bxr_hh_race_county.total_bounds, zoom=10,   \n",
    "                                            source=ctx.providers.OpenStreetMap.Mapnik)"
   ]
  },
  {
   "cell_type": "code",
   "execution_count": 32,
   "id": "b9fd3962",
   "metadata": {},
   "outputs": [
    {
     "data": {
      "image/png": "[encoded data removed]",
      "text/plain": [
       "<Figure size 1440x720 with 2 Axes>"
      ]
     },
     "metadata": {},
     "output_type": "display_data"
    }
   ],
   "source": [
    "#interpolation = [None, 'none', 'nearest', 'bilinear', 'bicubic', 'spline16',\n",
    "           #'spline36', 'hanning', 'hamming', 'hermite', 'kaiser', 'quadric',\n",
    "           #'catrom', 'gaussian', 'bessel', 'mitchell', 'sinc', 'lanczos']\n",
    "\n",
    "# Create subplots\n",
    "fig, ax = plt.subplots(1, 1, figsize = (20, 10))\n",
    "\n",
    "# Plot data\n",
    "# Source: https://geopandas.readthedocs.io/en/latest/docs/user_guide/mapping.html\n",
    "\n",
    "ax.imshow(bxr_hhr_basemap, extent=bxr_hhr_extent, interpolation='nearest')\n",
    "bxr_hh_race_county['Percentage'] = bxr_hh_race_county.eval('B25006_003E/B25006_001E')*100 \n",
    "\n",
    "\n",
    "bxr_hh_race_county.plot('Percentage', \n",
    "                       ax = ax,\n",
    "                       cmap = \"RdPu\",\n",
    "                       legend = True,\n",
    "                       alpha=.7\n",
    "                       )\n",
    "\n",
    "# Stylize plots\n",
    "\n",
    "ax.set_facecolor('w')\n",
    "\n",
    "ax.grid(visible=False) #remove grid lines \n",
    "\n",
    "# Set title\n",
    "ax.set_title('Percentage of Black or African American Householders in Bexar County \\nfrom American Community Survey 2009 5yr estimate', fontdict = {'fontsize': '15', 'fontweight' : '3'})\n",
    "\n",
    "ax.tick_params(left = False, right = False , labelleft = False ,labelbottom = False, bottom = False)"
   ]
  },
  {
   "cell_type": "code",
   "execution_count": 27,
   "id": "6db81c3e",
   "metadata": {},
   "outputs": [
    {
     "data": {
      "text/html": [
       "<div>\n",
       "<style scoped>\n",
       "    .dataframe tbody tr th:only-of-type {\n",
       "        vertical-align: middle;\n",
       "    }\n",
       "\n",
       "    .dataframe tbody tr th {\n",
       "        vertical-align: top;\n",
       "    }\n",
       "\n",
       "    .dataframe thead th {\n",
       "        text-align: right;\n",
       "    }\n",
       "</style>\n",
       "<table border=\"1\" class=\"dataframe\">\n",
       "  <thead>\n",
       "    <tr style=\"text-align: right;\">\n",
       "      <th></th>\n",
       "      <th>geometry</th>\n",
       "      <th>B25006_001E</th>\n",
       "      <th>B25006_003E</th>\n",
       "      <th>Percentage</th>\n",
       "    </tr>\n",
       "    <tr>\n",
       "      <th>TRACTCE</th>\n",
       "      <th></th>\n",
       "      <th></th>\n",
       "      <th></th>\n",
       "      <th></th>\n",
       "    </tr>\n",
       "  </thead>\n",
       "  <tbody>\n",
       "    <tr>\n",
       "      <th>110100</th>\n",
       "      <td>POLYGON ((-98.50150 29.43284, -98.50141 29.432...</td>\n",
       "      <td>1280.0</td>\n",
       "      <td>44.0</td>\n",
       "      <td>3.437500</td>\n",
       "    </tr>\n",
       "    <tr>\n",
       "      <th>110300</th>\n",
       "      <td>POLYGON ((-98.48951 29.41564, -98.48907 29.415...</td>\n",
       "      <td>1161.0</td>\n",
       "      <td>131.0</td>\n",
       "      <td>11.283376</td>\n",
       "    </tr>\n",
       "    <tr>\n",
       "      <th>110500</th>\n",
       "      <td>POLYGON ((-98.51493 29.41416, -98.51486 29.414...</td>\n",
       "      <td>779.0</td>\n",
       "      <td>44.0</td>\n",
       "      <td>5.648267</td>\n",
       "    </tr>\n",
       "    <tr>\n",
       "      <th>110600</th>\n",
       "      <td>POLYGON ((-98.51382 29.42267, -98.51381 29.422...</td>\n",
       "      <td>1142.0</td>\n",
       "      <td>0.0</td>\n",
       "      <td>0.000000</td>\n",
       "    </tr>\n",
       "    <tr>\n",
       "      <th>110700</th>\n",
       "      <td>POLYGON ((-98.51508 29.44412, -98.51496 29.444...</td>\n",
       "      <td>590.0</td>\n",
       "      <td>35.0</td>\n",
       "      <td>5.932203</td>\n",
       "    </tr>\n",
       "  </tbody>\n",
       "</table>\n",
       "</div>"
      ],
      "text/plain": [
       "                                                  geometry  B25006_001E  \\\n",
       "TRACTCE                                                                   \n",
       "110100   POLYGON ((-98.50150 29.43284, -98.50141 29.432...       1280.0   \n",
       "110300   POLYGON ((-98.48951 29.41564, -98.48907 29.415...       1161.0   \n",
       "110500   POLYGON ((-98.51493 29.41416, -98.51486 29.414...        779.0   \n",
       "110600   POLYGON ((-98.51382 29.42267, -98.51381 29.422...       1142.0   \n",
       "110700   POLYGON ((-98.51508 29.44412, -98.51496 29.444...        590.0   \n",
       "\n",
       "         B25006_003E  Percentage  \n",
       "TRACTCE                           \n",
       "110100          44.0    3.437500  \n",
       "110300         131.0   11.283376  \n",
       "110500          44.0    5.648267  \n",
       "110600           0.0    0.000000  \n",
       "110700          35.0    5.932203  "
      ]
     },
     "execution_count": 27,
     "metadata": {},
     "output_type": "execute_result"
    }
   ],
   "source": [
    "bxr_hh_race_county.head()"
   ]
  },
  {
   "cell_type": "code",
   "execution_count": 28,
   "id": "5dd331df",
   "metadata": {},
   "outputs": [],
   "source": [
    "#ctx.add_basemap(ax, crs= 4269, url='http://maps.stamen.com/m2i/#terrain/1000:1000/10/29.4297/-98.5266', alpha=.50, zoom=18)\n",
    "#ctx.add_basemap(ax, crs=4269, source=ctx.providers.Stamen.TonerLabels, alpha=.90, zoom='auto', attribution_size=12)\n",
    "#ax.set_axis_off()"
   ]
  },
  {
   "cell_type": "code",
   "execution_count": 29,
   "id": "0dee2646",
   "metadata": {},
   "outputs": [
    {
     "data": {
      "text/plain": [
       "<Figure size 432x288 with 0 Axes>"
      ]
     },
     "metadata": {},
     "output_type": "display_data"
    }
   ],
   "source": [
    "\n",
    "ctx.Place(\"Bexar County, TX\")\n",
    "ctx.add_basemap(ax, zoom='auto', crs=4269, source=ctx.providers.Stamen.TonerLines, alpha=1)\n",
    "ctx.add_basemap(ax, source=ctx.providers.Stamen.TonerHybrid, zoom=10, alpha=.7)\n"
   ]
  }
 ],
 "metadata": {
  "kernelspec": {
   "display_name": "Python 3 (ipykernel)",
   "language": "python",
   "name": "python3"
  },
  "language_info": {
   "codemirror_mode": {
    "name": "ipython",
    "version": 3
   },
   "file_extension": ".py",
   "mimetype": "text/x-python",
   "name": "python",
   "nbconvert_exporter": "python",
   "pygments_lexer": "ipython3",
   "version": "3.9.13"
  },
  "vscode": {
   "interpreter": {
    "hash": "578617e37275adef76fcc456b2ca705a8678b1783fb8e896c04aa72c1ce7be2e"
   }
  },
  "widgets": {
   "application/vnd.jupyter.widget-state+json": {
    "state": {},
    "version_major": 2,
    "version_minor": 0
   }
  }
 },
 "nbformat": 4,
 "nbformat_minor": 5
}
