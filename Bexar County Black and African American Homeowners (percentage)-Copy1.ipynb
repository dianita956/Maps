{
 "cells": [
  {
   "cell_type": "code",
   "execution_count": 1,
   "id": "6947e494",
   "metadata": {},
   "outputs": [],
   "source": [
    "import cenpy\n",
    "import contextily as ctx \n",
    "import segregation\n",
    "%matplotlib inline\n",
    "import matplotlib as mpl"
   ]
  },
  {
   "cell_type": "code",
   "execution_count": 2,
   "id": "c8ec0691",
   "metadata": {},
   "outputs": [],
   "source": [
    "import xyzservices.providers as xyz\n",
    "import matplotlib.pyplot as plt #to make sure there are no errors when plotting a graph\n",
    "from contextily import add_basemap\n",
    "import folium "
   ]
  },
  {
   "cell_type": "code",
   "execution_count": 3,
   "id": "3fe3c7cf",
   "metadata": {},
   "outputs": [],
   "source": [
    "import geopandas as gpd \n",
    "from census import Census \n",
    "from us import states\n",
    "from shapely.geometry import Polygon"
   ]
  },
  {
   "cell_type": "code",
   "execution_count": 4,
   "id": "39a68b42",
   "metadata": {},
   "outputs": [],
   "source": [
    "import pandas as pd"
   ]
  },
  {
   "cell_type": "markdown",
   "id": "2da61203",
   "metadata": {},
   "source": [
    "**Census Api**"
   ]
  },
  {
   "cell_type": "code",
   "execution_count": 30,
   "id": "2bdd7d17",
   "metadata": {},
   "outputs": [
    {
     "data": {
      "text/html": [
       "<div>\n",
       "<style scoped>\n",
       "    .dataframe tbody tr th:only-of-type {\n",
       "        vertical-align: middle;\n",
       "    }\n",
       "\n",
       "    .dataframe tbody tr th {\n",
       "        vertical-align: top;\n",
       "    }\n",
       "\n",
       "    .dataframe thead th {\n",
       "        text-align: right;\n",
       "    }\n",
       "</style>\n",
       "<table border=\"1\" class=\"dataframe\">\n",
       "  <thead>\n",
       "    <tr style=\"text-align: right;\">\n",
       "      <th></th>\n",
       "      <th>description</th>\n",
       "      <th>columns</th>\n",
       "    </tr>\n",
       "    <tr>\n",
       "      <th>table_name</th>\n",
       "      <th></th>\n",
       "      <th></th>\n",
       "    </tr>\n",
       "  </thead>\n",
       "  <tbody>\n",
       "    <tr>\n",
       "      <th>B25006</th>\n",
       "      <td>RACE OF HOUSEHOLDER</td>\n",
       "      <td>[B25006_001E, B25006_002E, B25006_003E, B25006...</td>\n",
       "    </tr>\n",
       "  </tbody>\n",
       "</table>\n",
       "</div>"
      ],
      "text/plain": [
       "                    description  \\\n",
       "table_name                        \n",
       "B25006      RACE OF HOUSEHOLDER   \n",
       "\n",
       "                                                      columns  \n",
       "table_name                                                     \n",
       "B25006      [B25006_001E, B25006_002E, B25006_003E, B25006...  "
      ]
     },
     "execution_count": 30,
     "metadata": {},
     "output_type": "execute_result"
    }
   ],
   "source": [
    "acs=cenpy.products.ACS(year=2019)  \n",
    "acs.filter_tables('RACE OF HOUSEHOLDER', by='description')\n"
   ]
  },
  {
   "cell_type": "code",
   "execution_count": 45,
   "id": "9547fbc4",
   "metadata": {},
   "outputs": [
    {
     "ename": "TypeError",
     "evalue": "tables() takes from 1 to 2 positional arguments but 3 were given",
     "output_type": "error",
     "traceback": [
      "\u001b[1;31m---------------------------------------------------------------------------\u001b[0m",
      "\u001b[1;31mTypeError\u001b[0m                                 Traceback (most recent call last)",
      "Input \u001b[1;32mIn [45]\u001b[0m, in \u001b[0;36m<cell line: 1>\u001b[1;34m()\u001b[0m\n\u001b[1;32m----> 1\u001b[0m \u001b[43mc\u001b[49m\u001b[38;5;241;43m.\u001b[39;49m\u001b[43macs5\u001b[49m\u001b[38;5;241;43m.\u001b[39;49m\u001b[43mtables\u001b[49m\u001b[43m(\u001b[49m\u001b[38;5;124;43m'\u001b[39;49m\u001b[38;5;124;43mNAME\u001b[39;49m\u001b[38;5;124;43m'\u001b[39;49m\u001b[43m,\u001b[49m\u001b[38;5;124;43m'\u001b[39;49m\u001b[38;5;124;43mRACE OF HOUSEHOLDER\u001b[39;49m\u001b[38;5;124;43m'\u001b[39;49m\u001b[43m)\u001b[49m\n",
      "File \u001b[1;32m~\\Anaconda3\\envs\\map\\lib\\site-packages\\census\\core.py:308\u001b[0m, in \u001b[0;36mACSClient.tables\u001b[1;34m(self, *args, **kwargs)\u001b[0m\n\u001b[0;32m    306\u001b[0m \u001b[38;5;28;01mdef\u001b[39;00m \u001b[38;5;21mtables\u001b[39m(\u001b[38;5;28mself\u001b[39m, \u001b[38;5;241m*\u001b[39margs, \u001b[38;5;241m*\u001b[39m\u001b[38;5;241m*\u001b[39mkwargs):\n\u001b[0;32m    307\u001b[0m     \u001b[38;5;28mself\u001b[39m\u001b[38;5;241m.\u001b[39m_switch_endpoints(kwargs\u001b[38;5;241m.\u001b[39mget(\u001b[38;5;124m'\u001b[39m\u001b[38;5;124myear\u001b[39m\u001b[38;5;124m'\u001b[39m, \u001b[38;5;28mself\u001b[39m\u001b[38;5;241m.\u001b[39mdefault_year))\n\u001b[1;32m--> 308\u001b[0m     \u001b[38;5;28;01mreturn\u001b[39;00m \u001b[38;5;28msuper\u001b[39m(ACSClient, \u001b[38;5;28mself\u001b[39m)\u001b[38;5;241m.\u001b[39mtables(\u001b[38;5;241m*\u001b[39margs, \u001b[38;5;241m*\u001b[39m\u001b[38;5;241m*\u001b[39mkwargs)\n",
      "\u001b[1;31mTypeError\u001b[0m: tables() takes from 1 to 2 positional arguments but 3 were given"
     ]
    }
   ],
   "source": [
    "c.acs5.tables('NAME','RACE OF HOUSEHOLDER')"
   ]
  },
  {
   "cell_type": "code",
   "execution_count": 12,
   "id": "0b68bb1f",
   "metadata": {},
   "outputs": [],
   "source": [
    "c = Census('f5e7cf46eaa83ae8323e6051f74d9ab363d0b957')"
   ]
  },
  {
   "cell_type": "code",
   "execution_count": 26,
   "id": "86c3d86e",
   "metadata": {},
   "outputs": [],
   "source": [
    "#B02009\tBLACK OR AFRICAN AMERICAN ALONE OR IN COMBINAT...\n",
    "# Sources: https://api.census.gov/data/2019/acs/acs5/variables.html; https://pypi.org/project/census/\n",
    "bx_census_tract = c.acs5.state_county_tract(fields = ('NAME', 'B25006_001E', \n",
    "                                                      'B25006_002E','B25006_003E','B25006_004E',\n",
    "                                                     'B25006_005E','B25006_006E','B25006_007E',\n",
    "                                                     'B25006_008E','B25006_009E'),\n",
    "                                      state_fips = states.TX.fips,  \n",
    "                                      county_fips = \"029\",\n",
    "                                      tract = \"*\",\n",
    "                                      year = 2019)\n"
   ]
  },
  {
   "cell_type": "code",
   "execution_count": 27,
   "id": "5d6ec8eb",
   "metadata": {},
   "outputs": [
    {
     "data": {
      "text/html": [
       "<div>\n",
       "<style scoped>\n",
       "    .dataframe tbody tr th:only-of-type {\n",
       "        vertical-align: middle;\n",
       "    }\n",
       "\n",
       "    .dataframe tbody tr th {\n",
       "        vertical-align: top;\n",
       "    }\n",
       "\n",
       "    .dataframe thead th {\n",
       "        text-align: right;\n",
       "    }\n",
       "</style>\n",
       "<table border=\"1\" class=\"dataframe\">\n",
       "  <thead>\n",
       "    <tr style=\"text-align: right;\">\n",
       "      <th></th>\n",
       "      <th>NAME</th>\n",
       "      <th>B25006_001E</th>\n",
       "      <th>B25006_002E</th>\n",
       "      <th>B25006_003E</th>\n",
       "      <th>B25006_004E</th>\n",
       "      <th>B25006_005E</th>\n",
       "      <th>B25006_006E</th>\n",
       "      <th>B25006_007E</th>\n",
       "      <th>B25006_008E</th>\n",
       "      <th>B25006_009E</th>\n",
       "      <th>state</th>\n",
       "      <th>county</th>\n",
       "      <th>tract</th>\n",
       "    </tr>\n",
       "  </thead>\n",
       "  <tbody>\n",
       "    <tr>\n",
       "      <th>0</th>\n",
       "      <td>Census Tract 1109, Bexar County, Texas</td>\n",
       "      <td>1016.0</td>\n",
       "      <td>891.0</td>\n",
       "      <td>30.0</td>\n",
       "      <td>0.0</td>\n",
       "      <td>29.0</td>\n",
       "      <td>0.0</td>\n",
       "      <td>66.0</td>\n",
       "      <td>0.0</td>\n",
       "      <td>0.0</td>\n",
       "      <td>48</td>\n",
       "      <td>029</td>\n",
       "      <td>110900</td>\n",
       "    </tr>\n",
       "    <tr>\n",
       "      <th>1</th>\n",
       "      <td>Census Tract 1110, Bexar County, Texas</td>\n",
       "      <td>1188.0</td>\n",
       "      <td>776.0</td>\n",
       "      <td>103.0</td>\n",
       "      <td>0.0</td>\n",
       "      <td>41.0</td>\n",
       "      <td>0.0</td>\n",
       "      <td>223.0</td>\n",
       "      <td>45.0</td>\n",
       "      <td>19.0</td>\n",
       "      <td>48</td>\n",
       "      <td>029</td>\n",
       "      <td>111000</td>\n",
       "    </tr>\n",
       "    <tr>\n",
       "      <th>2</th>\n",
       "      <td>Census Tract 1217.01, Bexar County, Texas</td>\n",
       "      <td>1500.0</td>\n",
       "      <td>1220.0</td>\n",
       "      <td>107.0</td>\n",
       "      <td>0.0</td>\n",
       "      <td>52.0</td>\n",
       "      <td>0.0</td>\n",
       "      <td>112.0</td>\n",
       "      <td>9.0</td>\n",
       "      <td>0.0</td>\n",
       "      <td>48</td>\n",
       "      <td>029</td>\n",
       "      <td>121701</td>\n",
       "    </tr>\n",
       "    <tr>\n",
       "      <th>3</th>\n",
       "      <td>Census Tract 1211.19, Bexar County, Texas</td>\n",
       "      <td>2260.0</td>\n",
       "      <td>1962.0</td>\n",
       "      <td>31.0</td>\n",
       "      <td>11.0</td>\n",
       "      <td>76.0</td>\n",
       "      <td>0.0</td>\n",
       "      <td>74.0</td>\n",
       "      <td>106.0</td>\n",
       "      <td>32.0</td>\n",
       "      <td>48</td>\n",
       "      <td>029</td>\n",
       "      <td>121119</td>\n",
       "    </tr>\n",
       "    <tr>\n",
       "      <th>4</th>\n",
       "      <td>Census Tract 1211.20, Bexar County, Texas</td>\n",
       "      <td>1699.0</td>\n",
       "      <td>1407.0</td>\n",
       "      <td>163.0</td>\n",
       "      <td>0.0</td>\n",
       "      <td>31.0</td>\n",
       "      <td>0.0</td>\n",
       "      <td>35.0</td>\n",
       "      <td>63.0</td>\n",
       "      <td>32.0</td>\n",
       "      <td>48</td>\n",
       "      <td>029</td>\n",
       "      <td>121120</td>\n",
       "    </tr>\n",
       "  </tbody>\n",
       "</table>\n",
       "</div>"
      ],
      "text/plain": [
       "                                        NAME  B25006_001E  B25006_002E  \\\n",
       "0     Census Tract 1109, Bexar County, Texas       1016.0        891.0   \n",
       "1     Census Tract 1110, Bexar County, Texas       1188.0        776.0   \n",
       "2  Census Tract 1217.01, Bexar County, Texas       1500.0       1220.0   \n",
       "3  Census Tract 1211.19, Bexar County, Texas       2260.0       1962.0   \n",
       "4  Census Tract 1211.20, Bexar County, Texas       1699.0       1407.0   \n",
       "\n",
       "   B25006_003E  B25006_004E  B25006_005E  B25006_006E  B25006_007E  \\\n",
       "0         30.0          0.0         29.0          0.0         66.0   \n",
       "1        103.0          0.0         41.0          0.0        223.0   \n",
       "2        107.0          0.0         52.0          0.0        112.0   \n",
       "3         31.0         11.0         76.0          0.0         74.0   \n",
       "4        163.0          0.0         31.0          0.0         35.0   \n",
       "\n",
       "   B25006_008E  B25006_009E state county   tract  \n",
       "0          0.0          0.0    48    029  110900  \n",
       "1         45.0         19.0    48    029  111000  \n",
       "2          9.0          0.0    48    029  121701  \n",
       "3        106.0         32.0    48    029  121119  \n",
       "4         63.0         32.0    48    029  121120  "
      ]
     },
     "execution_count": 27,
     "metadata": {},
     "output_type": "execute_result"
    }
   ],
   "source": [
    "bx_df = pd.DataFrame(bx_census_tract)\n",
    "bx_df.head()"
   ]
  },
  {
   "cell_type": "code",
   "execution_count": null,
   "id": "20cc1d87",
   "metadata": {},
   "outputs": [],
   "source": [
    "print('Shape: ', bx_df.shape)"
   ]
  },
  {
   "cell_type": "markdown",
   "id": "3a90646a",
   "metadata": {},
   "source": [
    "**Bexar County RACE Population (percentage)**"
   ]
  },
  {
   "cell_type": "code",
   "execution_count": null,
   "id": "59038932",
   "metadata": {},
   "outputs": [],
   "source": [
    "race = ['B02001_001E', #RACE all\n",
    "                'B02001_003E' #BLACK OR AFRICAN AMERICAN ALONE OR IN COMBINAT...\t\n",
    "                ]\n",
    "race"
   ]
  },
  {
   "cell_type": "code",
   "execution_count": null,
   "id": "398f4d10",
   "metadata": {
    "scrolled": true
   },
   "outputs": [],
   "source": [
    "bx_race_black = acs.from_county('Bexar County, TX', variables=race)\n",
    "bx_race_black"
   ]
  },
  {
   "cell_type": "code",
   "execution_count": null,
   "id": "389b943f",
   "metadata": {},
   "outputs": [],
   "source": [
    "bx_race_black_basemap, bx_race_black_extent = ctx.bounds2img(*bx_race_black.total_bounds, zoom=10,   # type: ignore\n",
    "                                            source=ctx.providers.OpenStreetMap.Mapnik  # type: ignore  # type: ignore)"
   ]
  },
  {
   "cell_type": "code",
   "execution_count": null,
   "id": "87e1d7a4",
   "metadata": {
    "scrolled": false
   },
   "outputs": [],
   "source": [
    "f,ax = plt.subplots(1,1, figsize=(20,16))\n",
    "\n",
    "plt.rcParams['legend.title_fontsize'] = 'medium'\n",
    "\n",
    "plt.rcParams['font.size'] = 16\n",
    "\n",
    "plt.rcParams['font.weight'] = 600\n",
    "\n",
    "ax.imshow(bx_race_black_basemap, extent=bx_race_black_extent, interpolation='sinc')\n",
    "bx_race_black['pct_black'] = bx_race_black.eval('B02001_003E / B02001_001E')*100  # type: ignore\n",
    "\n",
    "bx_race_black.plot('pct_black', edgecolor='white',linewidth=.2, cmap='CMRmap_r', ax = ax,  # type: ignore\n",
    "                    alpha=.7, legend=True,\n",
    "                    legend_kwds={ 'label': \"Percentage of Black/African American residences living in Bexar County\",'orientation': \"horizontal\", 'pad':.01})  # type: ignore\n",
    "\n",
    "plt.title(\n",
    "    \"\\nBexar County\\n Black and African American Population (percentage)\\n\",\n",
    "    fontsize=20,\n",
    "    loc='center',\n",
    "    fontweight='bold',\n",
    "    #style='italic',\n",
    "    family='monospace')\n",
    "\n",
    "plt.style.use('dark_background')\n",
    "\n",
    "ax.tick_params(left = False, right = False , labelleft = False ,labelbottom = False, bottom = False)"
   ]
  }
 ],
 "metadata": {
  "kernelspec": {
   "display_name": "Python 3 (ipykernel)",
   "language": "python",
   "name": "python3"
  },
  "language_info": {
   "codemirror_mode": {
    "name": "ipython",
    "version": 3
   },
   "file_extension": ".py",
   "mimetype": "text/x-python",
   "name": "python",
   "nbconvert_exporter": "python",
   "pygments_lexer": "ipython3",
   "version": "3.9.13"
  },
  "vscode": {
   "interpreter": {
    "hash": "578617e37275adef76fcc456b2ca705a8678b1783fb8e896c04aa72c1ce7be2e"
   }
  },
  "widgets": {
   "application/vnd.jupyter.widget-state+json": {
    "state": {},
    "version_major": 2,
    "version_minor": 0
   }
  }
 },
 "nbformat": 4,
 "nbformat_minor": 5
}
