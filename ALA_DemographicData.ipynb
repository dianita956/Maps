{
 "cells": [
  {
   "cell_type": "code",
   "execution_count": null,
   "metadata": {},
   "outputs": [],
   "source": [
    "import pandas as pd\n",
    "import requests\n",
    "from census import Census\n",
    "from us import states\n",
    "from tabulate import tabulate "
   ]
  },
  {
   "cell_type": "code",
   "execution_count": null,
   "metadata": {},
   "outputs": [],
   "source": [
    "api_key = open('census_api_key.txt').read().strip()\n",
    "c=Census(api_key)"
   ]
  },
  {
   "cell_type": "code",
   "execution_count": null,
   "metadata": {},
   "outputs": [],
   "source": [
    "# Full API variable list available here https://api.census.gov/data/2016/acs/acs5/variables/\n",
    "categories = [\n",
    "     'NAME', # county name\n",
    "     'B01001_001E', # Total population\n",
    "     'B15002_001E', # Total population 25 and over\n",
    "     'B19013_001E', # Median income\n",
    "     'B25077_001E', # Median home value\n",
    "     'B15011_001E', # Total population age 25+ years with a bachelor's degree or higher\n",
    "     'B03002_003E', # Not Hispanic or Latino!!White alone\n",
    "     'B03002_004E', # Not Hispanic or Latino!!Black or African American alone\n",
    "     'B02001_004E', # American Indian and Alaska Native Alone\n",
    "     'B03002_006E', # Not Hispanic or Latino!!Asian alone\n",
    "     'B03002_007E', # Not Hispanic or Latino!!Native Hawaiian and Other Pacific Islander alone\n",
    "     'B03002_008E', # Not Hispanic or Latino!!Some other race alone\n",
    "     'B03002_009E', # Not Hispanic or Latino!!Two or more races\n",
    "     'B03002_012E', # Hispanic or Latino\n",
    "]"
   ]
  },
  {
   "cell_type": "code",
   "execution_count": null,
   "metadata": {},
   "outputs": [],
   "source": [
    "#Function to run API scraper:\n",
    "\n",
    "def get_acs_data(state_code, county_code, timeperiod, metro_area):\n",
    "    results = c.acs5.state_county_tract(\n",
    "        categories,\n",
    "        state_code,\n",
    "        county_code, \n",
    "        Census.ALL,\n",
    "        year = timeperiod\n",
    "    )\n",
    "\n",
    "    return [ {\n",
    "        'geoid': res['state'] + res['county'] + res['tract'],\n",
    "        'name': res['NAME'],\n",
    "        'total_population': res['B01001_001E'],\n",
    "        'total_population_25_over': res['B15002_001E'],\n",
    "        'median_income': res['B19013_001E'],\n",
    "        'median_home_value': res['B25077_001E'],\n",
    "        'educational_attainment': res['B15011_001E'],\n",
    "        'white_alone': res['B03002_003E'],\n",
    "        'black_alone': res['B03002_004E'],\n",
    "        'native_alone': res['B02001_004E'],\n",
    "        'asian_alone': res['B03002_006E'],\n",
    "        'native_hawaiian_pacific_islander': res['B03002_007E'],\n",
    "        'some_other_race_alone': res['B03002_008E'],\n",
    "        'two_or_more': res['B03002_009E'],\n",
    "        'hispanic_or_latino': res['B03002_012E'],\n",
    "        'city': city,\n",
    "        'metro_area': metro_area\n",
    "    } for res in results ]"
   ]
  },
  {
   "cell_type": "code",
   "execution_count": null,
   "metadata": {},
   "outputs": [],
   "source": [
    "metro_area_counties = pd.read_csv(\n",
    "    '../SA_eastside_demographic/metrolist2.csv',\n",
    "    dtype = {\n",
    "        \"metro_area_code\": str,\n",
    "        \"county_code\": str\n",
    "    }\n",
    ").rename(\n",
    "        columns={\n",
    "            \"county_code\": \"full_geo_code\",\n",
    "            \"county_name\":  \"county_name\",\n",
    "            \"metro_area_name\":\"metro_area\"\n",
    "\n",
    "        }\n",
    "    )\n",
    "\n",
    "metro_area_counties.head()"
   ]
  },
  {
   "cell_type": "code",
   "execution_count": null,
   "metadata": {},
   "outputs": [],
   "source": [
    "del metro_area_counties ['Unnamed: 4']"
   ]
  },
  {
   "cell_type": "code",
   "execution_count": null,
   "metadata": {},
   "outputs": [],
   "source": [
    "metro_area_counties.columns"
   ]
  },
  {
   "cell_type": "code",
   "execution_count": null,
   "metadata": {},
   "outputs": [],
   "source": [
    "metro_area_counties[\"state_code\"]= metro_area_counties[\"full_geo_code\"].apply(lambda x: str(x)[0:2])\n",
    "metro_area_counties[\"county_code\"] =  metro_area_counties[\"full_geo_code\"].apply(lambda x: str(x)[2:5])\n",
    "metro_area_counties.head()"
   ]
  },
  {
   "cell_type": "code",
   "execution_count": null,
   "metadata": {},
   "outputs": [],
   "source": [
    "census_data = []\n",
    "for index, county in metro_area_counties.iterrows():\n",
    "    print(county['county_name'])\n",
    "    \n",
    "    census_data += get_acs_data(\n",
    "    county['state_code'], \n",
    "    county['county_code'], \n",
    "    2010, \n",
    "    county['metro_area']\n",
    "#    county['city']\n",
    "    )\n",
    "\n",
    "census_data = pd.DataFrame(census_data)"
   ]
  },
  {
   "cell_type": "code",
   "execution_count": null,
   "metadata": {},
   "outputs": [],
   "source": [
    "census_data.head()"
   ]
  }
 ],
 "metadata": {
  "kernelspec": {
   "display_name": "Python 3.9.13 ('map')",
   "language": "python",
   "name": "python3"
  },
  "language_info": {
   "codemirror_mode": {
    "name": "ipython",
    "version": 3
   },
   "file_extension": ".py",
   "mimetype": "text/x-python",
   "name": "python",
   "nbconvert_exporter": "python",
   "pygments_lexer": "ipython3",
   "version": "3.9.13"
  },
  "orig_nbformat": 4,
  "vscode": {
   "interpreter": {
    "hash": "578617e37275adef76fcc456b2ca705a8678b1783fb8e896c04aa72c1ce7be2e"
   }
  }
 },
 "nbformat": 4,
 "nbformat_minor": 2
}
